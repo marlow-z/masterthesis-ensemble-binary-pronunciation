{
 "cells": [
  {
   "cell_type": "markdown",
   "metadata": {},
   "source": [
    "## The colab part is mainly used to obtain results for whisper. For preprocessing, we run it on jupyterlab"
   ]
  },
  {
   "cell_type": "code",
   "execution_count": 1,
   "metadata": {
    "colab": {
     "base_uri": "https://localhost:8080/"
    },
    "executionInfo": {
     "elapsed": 11618,
     "status": "ok",
     "timestamp": 1759597554405,
     "user": {
      "displayName": "malta zh",
      "userId": "18304279520126745870"
     },
     "user_tz": -120
    },
    "id": "s4WjHJwdZDOJ",
    "outputId": "ff95fcb9-0a67-4338-86af-8c529fa92726"
   },
   "outputs": [
    {
     "name": "stdout",
     "output_type": "stream",
     "text": [
      "Collecting openai-whisper\n",
      "  Downloading openai_whisper-20250625.tar.gz (803 kB)\n",
      "\u001b[2K     \u001b[90m━━━━━━━━━━━━━━━━━━━━━━━━━━━━━━━━━━━━━━\u001b[0m \u001b[32m803.2/803.2 kB\u001b[0m \u001b[31m18.6 MB/s\u001b[0m eta \u001b[36m0:00:00\u001b[0m\n",
      "\u001b[?25h  Installing build dependencies ... \u001b[?25l\u001b[?25hdone\n",
      "  Getting requirements to build wheel ... \u001b[?25l\u001b[?25hdone\n",
      "  Preparing metadata (pyproject.toml) ... \u001b[?25l\u001b[?25hdone\n",
      "Requirement already satisfied: more-itertools in /usr/local/lib/python3.12/dist-packages (from openai-whisper) (10.8.0)\n",
      "Requirement already satisfied: numba in /usr/local/lib/python3.12/dist-packages (from openai-whisper) (0.60.0)\n",
      "Requirement already satisfied: numpy in /usr/local/lib/python3.12/dist-packages (from openai-whisper) (2.0.2)\n",
      "Requirement already satisfied: tiktoken in /usr/local/lib/python3.12/dist-packages (from openai-whisper) (0.11.0)\n",
      "Requirement already satisfied: torch in /usr/local/lib/python3.12/dist-packages (from openai-whisper) (2.8.0+cu126)\n",
      "Requirement already satisfied: tqdm in /usr/local/lib/python3.12/dist-packages (from openai-whisper) (4.67.1)\n",
      "Requirement already satisfied: triton>=2 in /usr/local/lib/python3.12/dist-packages (from openai-whisper) (3.4.0)\n",
      "Requirement already satisfied: setuptools>=40.8.0 in /usr/local/lib/python3.12/dist-packages (from triton>=2->openai-whisper) (75.2.0)\n",
      "Requirement already satisfied: llvmlite<0.44,>=0.43.0dev0 in /usr/local/lib/python3.12/dist-packages (from numba->openai-whisper) (0.43.0)\n",
      "Requirement already satisfied: regex>=2022.1.18 in /usr/local/lib/python3.12/dist-packages (from tiktoken->openai-whisper) (2024.11.6)\n",
      "Requirement already satisfied: requests>=2.26.0 in /usr/local/lib/python3.12/dist-packages (from tiktoken->openai-whisper) (2.32.4)\n",
      "Requirement already satisfied: filelock in /usr/local/lib/python3.12/dist-packages (from torch->openai-whisper) (3.19.1)\n",
      "Requirement already satisfied: typing-extensions>=4.10.0 in /usr/local/lib/python3.12/dist-packages (from torch->openai-whisper) (4.15.0)\n",
      "Requirement already satisfied: sympy>=1.13.3 in /usr/local/lib/python3.12/dist-packages (from torch->openai-whisper) (1.13.3)\n",
      "Requirement already satisfied: networkx in /usr/local/lib/python3.12/dist-packages (from torch->openai-whisper) (3.5)\n",
      "Requirement already satisfied: jinja2 in /usr/local/lib/python3.12/dist-packages (from torch->openai-whisper) (3.1.6)\n",
      "Requirement already satisfied: fsspec in /usr/local/lib/python3.12/dist-packages (from torch->openai-whisper) (2025.3.0)\n",
      "Requirement already satisfied: nvidia-cuda-nvrtc-cu12==12.6.77 in /usr/local/lib/python3.12/dist-packages (from torch->openai-whisper) (12.6.77)\n",
      "Requirement already satisfied: nvidia-cuda-runtime-cu12==12.6.77 in /usr/local/lib/python3.12/dist-packages (from torch->openai-whisper) (12.6.77)\n",
      "Requirement already satisfied: nvidia-cuda-cupti-cu12==12.6.80 in /usr/local/lib/python3.12/dist-packages (from torch->openai-whisper) (12.6.80)\n",
      "Requirement already satisfied: nvidia-cudnn-cu12==9.10.2.21 in /usr/local/lib/python3.12/dist-packages (from torch->openai-whisper) (9.10.2.21)\n",
      "Requirement already satisfied: nvidia-cublas-cu12==12.6.4.1 in /usr/local/lib/python3.12/dist-packages (from torch->openai-whisper) (12.6.4.1)\n",
      "Requirement already satisfied: nvidia-cufft-cu12==11.3.0.4 in /usr/local/lib/python3.12/dist-packages (from torch->openai-whisper) (11.3.0.4)\n",
      "Requirement already satisfied: nvidia-curand-cu12==10.3.7.77 in /usr/local/lib/python3.12/dist-packages (from torch->openai-whisper) (10.3.7.77)\n",
      "Requirement already satisfied: nvidia-cusolver-cu12==11.7.1.2 in /usr/local/lib/python3.12/dist-packages (from torch->openai-whisper) (11.7.1.2)\n",
      "Requirement already satisfied: nvidia-cusparse-cu12==12.5.4.2 in /usr/local/lib/python3.12/dist-packages (from torch->openai-whisper) (12.5.4.2)\n",
      "Requirement already satisfied: nvidia-cusparselt-cu12==0.7.1 in /usr/local/lib/python3.12/dist-packages (from torch->openai-whisper) (0.7.1)\n",
      "Requirement already satisfied: nvidia-nccl-cu12==2.27.3 in /usr/local/lib/python3.12/dist-packages (from torch->openai-whisper) (2.27.3)\n",
      "Requirement already satisfied: nvidia-nvtx-cu12==12.6.77 in /usr/local/lib/python3.12/dist-packages (from torch->openai-whisper) (12.6.77)\n",
      "Requirement already satisfied: nvidia-nvjitlink-cu12==12.6.85 in /usr/local/lib/python3.12/dist-packages (from torch->openai-whisper) (12.6.85)\n",
      "Requirement already satisfied: nvidia-cufile-cu12==1.11.1.6 in /usr/local/lib/python3.12/dist-packages (from torch->openai-whisper) (1.11.1.6)\n",
      "Requirement already satisfied: charset_normalizer<4,>=2 in /usr/local/lib/python3.12/dist-packages (from requests>=2.26.0->tiktoken->openai-whisper) (3.4.3)\n",
      "Requirement already satisfied: idna<4,>=2.5 in /usr/local/lib/python3.12/dist-packages (from requests>=2.26.0->tiktoken->openai-whisper) (3.10)\n",
      "Requirement already satisfied: urllib3<3,>=1.21.1 in /usr/local/lib/python3.12/dist-packages (from requests>=2.26.0->tiktoken->openai-whisper) (2.5.0)\n",
      "Requirement already satisfied: certifi>=2017.4.17 in /usr/local/lib/python3.12/dist-packages (from requests>=2.26.0->tiktoken->openai-whisper) (2025.8.3)\n",
      "Requirement already satisfied: mpmath<1.4,>=1.1.0 in /usr/local/lib/python3.12/dist-packages (from sympy>=1.13.3->torch->openai-whisper) (1.3.0)\n",
      "Requirement already satisfied: MarkupSafe>=2.0 in /usr/local/lib/python3.12/dist-packages (from jinja2->torch->openai-whisper) (3.0.3)\n",
      "Building wheels for collected packages: openai-whisper\n",
      "  Building wheel for openai-whisper (pyproject.toml) ... \u001b[?25l\u001b[?25hdone\n",
      "  Created wheel for openai-whisper: filename=openai_whisper-20250625-py3-none-any.whl size=803979 sha256=25bee514fdeebd76412d238bf66b7fb47969dfe5b7d5c7e8fc922917b3eda29e\n",
      "  Stored in directory: /root/.cache/pip/wheels/61/d2/20/09ec9bef734d126cba375b15898010b6cc28578d8afdde5869\n",
      "Successfully built openai-whisper\n",
      "Installing collected packages: openai-whisper\n",
      "Successfully installed openai-whisper-20250625\n"
     ]
    }
   ],
   "source": [
    "# installing on colab\n",
    "pip install -U openai-whisper"
   ]
  },
  {
   "cell_type": "markdown",
   "metadata": {
    "id": "haxHq5-pL5Vp"
   },
   "source": [
    "## Colab is mainly used to speed up the transcription of Whisper data. For transcription at each temperature it took 2-3 hours."
   ]
  },
  {
   "cell_type": "code",
   "execution_count": 62,
   "metadata": {
    "executionInfo": {
     "elapsed": 4948,
     "status": "ok",
     "timestamp": 1759597559357,
     "user": {
      "displayName": "malta zh",
      "userId": "18304279520126745870"
     },
     "user_tz": -120
    },
    "id": "XTljvyYjxx44"
   },
   "outputs": [],
   "source": [
    "import os\n",
    "import json\n",
    "import whisper"
   ]
  },
  {
   "cell_type": "code",
   "execution_count": 79,
   "metadata": {},
   "outputs": [],
   "source": [
    "from num2words import num2words\n",
    "from nltk.corpus import cmudict\n",
    "cmu_dict = cmudict.dict()\n",
    "import math\n",
    "import string"
   ]
  },
  {
   "cell_type": "code",
   "execution_count": 3,
   "metadata": {
    "executionInfo": {
     "elapsed": 2,
     "status": "ok",
     "timestamp": 1759597566740,
     "user": {
      "displayName": "malta zh",
      "userId": "18304279520126745870"
     },
     "user_tz": -120
    },
    "id": "hYvVDCeaabPU"
   },
   "outputs": [],
   "source": [
    "# files for downloading\n",
    "from google.colab import files"
   ]
  },
  {
   "cell_type": "code",
   "execution_count": 4,
   "metadata": {
    "colab": {
     "base_uri": "https://localhost:8080/"
    },
    "executionInfo": {
     "elapsed": 4524,
     "status": "ok",
     "timestamp": 1759597575265,
     "user": {
      "displayName": "malta zh",
      "userId": "18304279520126745870"
     },
     "user_tz": -120
    },
    "id": "SItL4BsbdRZo",
    "outputId": "c021321f-6dc7-4a4b-8178-12b4f3a74a17"
   },
   "outputs": [
    {
     "name": "stderr",
     "output_type": "stream",
     "text": [
      "100%|███████████████████████████████████████| 139M/139M [00:02<00:00, 54.0MiB/s]\n"
     ]
    }
   ],
   "source": [
    "model = whisper.load_model('base.en')"
   ]
  },
  {
   "cell_type": "code",
   "execution_count": 6,
   "metadata": {
    "colab": {
     "base_uri": "https://localhost:8080/"
    },
    "executionInfo": {
     "elapsed": 18308,
     "status": "ok",
     "timestamp": 1759597636430,
     "user": {
      "displayName": "malta zh",
      "userId": "18304279520126745870"
     },
     "user_tz": -120
    },
    "id": "9e_daqeBawjR",
    "outputId": "75f15a5b-5f93-4d85-cb78-d4297b24c1cc"
   },
   "outputs": [
    {
     "name": "stdout",
     "output_type": "stream",
     "text": [
      "Mounted at /content/gdrive\n"
     ]
    }
   ],
   "source": [
    "from google.colab import drive\n",
    "drive.mount('/content/gdrive')"
   ]
  },
  {
   "cell_type": "code",
   "execution_count": 7,
   "metadata": {
    "executionInfo": {
     "elapsed": 97,
     "status": "ok",
     "timestamp": 1759597639399,
     "user": {
      "displayName": "malta zh",
      "userId": "18304279520126745870"
     },
     "user_tz": -120
    },
    "id": "RKHxHPLjN6Up"
   },
   "outputs": [],
   "source": [
    "# Using the base directory to generate a list of filenames, and full filepaths\n",
    "def file_names_paths(mooc_base_dir):\n",
    "    mooc_folders = os.listdir(mooc_base_dir) # display all filenames\n",
    "    mooc_subfolders=[] # the paths of base dir plus word name\n",
    "    for item in mooc_folders:\n",
    "        if not item.endswith('.DS_Store'):\n",
    "            audio = os.path.join(mooc_base_dir,item)\n",
    "            mooc_subfolders.append(audio)\n",
    "    mooc_fnl_subfolders = sorted(mooc_subfolders)# starting from 1, and sorted, so DS. not displayed\n",
    "    mooc_filenames = []\n",
    "    mooc_filepaths = []\n",
    "    flatten_mooc_filenames = []\n",
    "    for subfolder in mooc_fnl_subfolders:\n",
    "        mooc_filepath= sorted(os.listdir(subfolder))\n",
    "        for item in mooc_filepath:\n",
    "            full_path = os.path.join(subfolder, item)\n",
    "            mooc_filepaths.append(full_path)\n",
    "            flatten_mooc_filenames.append(item)\n",
    "    return flatten_mooc_filenames, mooc_filepaths"
   ]
  },
  {
   "cell_type": "code",
   "execution_count": 9,
   "metadata": {
    "executionInfo": {
     "elapsed": 11938,
     "status": "ok",
     "timestamp": 1759597679543,
     "user": {
      "displayName": "malta zh",
      "userId": "18304279520126745870"
     },
     "user_tz": -120
    },
    "id": "50vFzAmkMZw6"
   },
   "outputs": [],
   "source": [
    "# Count the intelligibel and unintelligible distribution\n",
    "mooc_base_dir = \"/content/gdrive/MyDrive/Colab Notebooks/file/mooc_audio\"\n",
    "flatten_mooc_filenames, mooc_filepaths = file_names_paths(mooc_base_dir)\n",
    "def count_labels(mooc_filenames):\n",
    "    intelligible_count = 0\n",
    "    unintelligible_count = 0\n",
    "    for x in mooc_filenames:\n",
    "        if x.endswith('1.mp3'):\n",
    "            intelligible_count += 1\n",
    "        else:\n",
    "            unintelligible_count += 1\n",
    "    print(f'There are {intelligible_count} \"intelligible\" labels,')\n",
    "    print(f'and {unintelligible_count } \"unintelligible\" labels')\n",
    "    return"
   ]
  },
  {
   "cell_type": "code",
   "execution_count": 10,
   "metadata": {
    "colab": {
     "base_uri": "https://localhost:8080/"
    },
    "executionInfo": {
     "elapsed": 12,
     "status": "ok",
     "timestamp": 1759597681758,
     "user": {
      "displayName": "malta zh",
      "userId": "18304279520126745870"
     },
     "user_tz": -120
    },
    "id": "asrj4MK2OUx3",
    "outputId": "72e1ecca-f908-4a72-b755-4d4f5b86a834"
   },
   "outputs": [
    {
     "name": "stdout",
     "output_type": "stream",
     "text": [
      "10230\n",
      "['series01-s00000-Paul-1.mp3', 'series01-s000011-Paul-0.mp3', 'series01-s000012-Paul-1.mp3', 'series01-s000013a-Paul-0.mp3', 'series01-s000013b-Paul-0.mp3']\n",
      "['/content/gdrive/MyDrive/Colab Notebooks/file/mooc_audio/Paul/series01-s00000-Paul-1.mp3', '/content/gdrive/MyDrive/Colab Notebooks/file/mooc_audio/Paul/series01-s000011-Paul-0.mp3', '/content/gdrive/MyDrive/Colab Notebooks/file/mooc_audio/Paul/series01-s000012-Paul-1.mp3', '/content/gdrive/MyDrive/Colab Notebooks/file/mooc_audio/Paul/series01-s000013a-Paul-0.mp3', '/content/gdrive/MyDrive/Colab Notebooks/file/mooc_audio/Paul/series01-s000013b-Paul-0.mp3']\n"
     ]
    }
   ],
   "source": [
    "# Inspecting\n",
    "print(len(flatten_mooc_filenames))\n",
    "print(flatten_mooc_filenames[0:5])\n",
    "print(mooc_filepaths[0:5])"
   ]
  },
  {
   "cell_type": "code",
   "execution_count": 11,
   "metadata": {
    "colab": {
     "base_uri": "https://localhost:8080/"
    },
    "executionInfo": {
     "elapsed": 5,
     "status": "ok",
     "timestamp": 1759597688129,
     "user": {
      "displayName": "malta zh",
      "userId": "18304279520126745870"
     },
     "user_tz": -120
    },
    "id": "AR3RLH0XOZBh",
    "outputId": "8d836b94-63f7-4718-d397-2e202be45e2e"
   },
   "outputs": [
    {
     "name": "stdout",
     "output_type": "stream",
     "text": [
      "There are 5726 \"intelligible\" labels,\n",
      "and 4504 \"unintelligible\" labels\n"
     ]
    }
   ],
   "source": [
    "# Calling to show the overall distribution of intelligible and unintelligible labels\n",
    "count_labels(flatten_mooc_filenames)"
   ]
  },
  {
   "cell_type": "code",
   "execution_count": 12,
   "metadata": {
    "executionInfo": {
     "elapsed": 8,
     "status": "ok",
     "timestamp": 1759597690189,
     "user": {
      "displayName": "malta zh",
      "userId": "18304279520126745870"
     },
     "user_tz": -120
    },
    "id": "bxu-HSNbOcob"
   },
   "outputs": [],
   "source": [
    "# Splitting the filenames and filepaths into equal distributions of test and dev\n",
    "def testdev_split(a, b):\n",
    "    dev_filenames = []\n",
    "    test_filenames = []\n",
    "    dev_filepaths = []\n",
    "    test_filepaths = []\n",
    "    for (i_filename, filename), (i_filepath, filepath) in zip(enumerate(a),enumerate(b)):\n",
    "        if i_filename%2 == 0:\n",
    "            dev_filenames.append(filename)\n",
    "        elif i_filename%2 == 1:\n",
    "            test_filenames.append(filename)\n",
    "    #for i, filepath in enumerate(b):\n",
    "        if i_filepath%2 == 0:\n",
    "            dev_filepaths.append(filepath)\n",
    "        elif i_filepath%2 == 1:\n",
    "            test_filepaths.append(filepath)\n",
    "    return dev_filenames, test_filenames, dev_filepaths, test_filepaths\n"
   ]
  },
  {
   "cell_type": "code",
   "execution_count": 13,
   "metadata": {
    "executionInfo": {
     "elapsed": 13,
     "status": "ok",
     "timestamp": 1759597691775,
     "user": {
      "displayName": "malta zh",
      "userId": "18304279520126745870"
     },
     "user_tz": -120
    },
    "id": "IFj2bRioP-Du"
   },
   "outputs": [],
   "source": [
    "# providing the dev and test filenames and full file paths for the task\n",
    "dev_fn, test_fn, dev_fp, test_fp = testdev_split(flatten_mooc_filenames, mooc_filepaths)"
   ]
  },
  {
   "cell_type": "markdown",
   "metadata": {
    "id": "V97a0ndnL5Vy"
   },
   "source": [
    "## best-of method in whisper transcription to select the 20 results (some overlap) and then unique transcript will later be selected and counted"
   ]
  },
  {
   "cell_type": "code",
   "execution_count": 15,
   "metadata": {
    "executionInfo": {
     "elapsed": 1,
     "status": "ok",
     "timestamp": 1759597699438,
     "user": {
      "displayName": "malta zh",
      "userId": "18304279520126745870"
     },
     "user_tz": -120
    },
    "id": "1uQjxAv7Yfhh"
   },
   "outputs": [],
   "source": [
    "def whisper_top_res(audio_file, temperature):\n",
    "    audiosamp=whisper.load_audio(audio_file)\n",
    "    audiosamp=whisper.pad_or_trim(audiosamp) #pad/trim it to fit 30 seconds\n",
    "    mel = whisper.log_mel_spectrogram(audiosamp).to(model.device)\n",
    "    options = whisper.DecodingOptions(language=\"en\", temperature=temperature, best_of=1)\n",
    "    result = whisper.decode(model, mel, options)\n",
    "\n",
    "    num_samples = 20\n",
    "    res_list= []\n",
    "    scores = []\n",
    "    for _ in range(num_samples):\n",
    "        result = whisper.decode(model, mel, options)\n",
    "        scores.append(result.avg_logprob)\n",
    "        res_list.append({'text':result.text, 'avg_logprob':result.avg_logprob})\n",
    "\n",
    "    return res_list\n"
   ]
  },
  {
   "cell_type": "code",
   "execution_count": 16,
   "metadata": {
    "executionInfo": {
     "elapsed": 1,
     "status": "ok",
     "timestamp": 1759597700965,
     "user": {
      "displayName": "malta zh",
      "userId": "18304279520126745870"
     },
     "user_tz": -120
    },
    "id": "19aeLnRdYhz4"
   },
   "outputs": [],
   "source": [
    "file_xample = '/content/gdrive/MyDrive/Colab Notebooks/file/dummy_temp/s03_paw_1.mp3'\n"
   ]
  },
  {
   "cell_type": "code",
   "execution_count": 17,
   "metadata": {
    "colab": {
     "base_uri": "https://localhost:8080/"
    },
    "executionInfo": {
     "elapsed": 4191,
     "status": "ok",
     "timestamp": 1759597706698,
     "user": {
      "displayName": "malta zh",
      "userId": "18304279520126745870"
     },
     "user_tz": -120
    },
    "id": "Eh0WGd1SaQls",
    "outputId": "6cfce776-f87b-43fb-fa43-be48d79e21af"
   },
   "outputs": [
    {
     "data": {
      "text/plain": [
       "[{'text': 'Go.', 'avg_logprob': -1.3301070213317872},\n",
       " {'text': 'Both.', 'avg_logprob': -1.302091121673584},\n",
       " {'text': 'Paul?', 'avg_logprob': -1.2505410194396973},\n",
       " {'text': 'Go!', 'avg_logprob': -1.3203139305114746},\n",
       " {'text': 'Bo.', 'avg_logprob': -1.2733623504638671},\n",
       " {'text': 'Go.', 'avg_logprob': -1.2308309555053711},\n",
       " {'text': 'Bo.', 'avg_logprob': -1.2733623504638671},\n",
       " {'text': 'ball.', 'avg_logprob': -2.141057777404785},\n",
       " {'text': 'Go!', 'avg_logprob': -1.3203139305114746},\n",
       " {'text': 'Bo.', 'avg_logprob': -1.3235505104064942},\n",
       " {'text': 'Bo.', 'avg_logprob': -1.3235505104064942},\n",
       " {'text': 'Bo.', 'avg_logprob': -1.5094337463378906},\n",
       " {'text': 'Bo.', 'avg_logprob': -1.2733623504638671},\n",
       " {'text': 'for', 'avg_logprob': -1.2418733835220337},\n",
       " {'text': 'Both.', 'avg_logprob': -1.302091121673584},\n",
       " {'text': 'Pull.', 'avg_logprob': -1.4525264739990233},\n",
       " {'text': 'Go.', 'avg_logprob': -1.2308309555053711},\n",
       " {'text': 'Bo.', 'avg_logprob': -1.2733623504638671},\n",
       " {'text': 'Bo.', 'avg_logprob': -1.3235505104064942},\n",
       " {'text': 'Both.', 'avg_logprob': -1.302091121673584}]"
      ]
     },
     "execution_count": 17,
     "metadata": {},
     "output_type": "execute_result"
    }
   ],
   "source": [
    "whisper_top_res(file_xample, 0.4)"
   ]
  },
  {
   "cell_type": "code",
   "execution_count": 18,
   "metadata": {
    "executionInfo": {
     "elapsed": 3,
     "status": "ok",
     "timestamp": 1759597715663,
     "user": {
      "displayName": "malta zh",
      "userId": "18304279520126745870"
     },
     "user_tz": -120
    },
    "id": "HAdBezGFknC1"
   },
   "outputs": [],
   "source": [
    "# Function to transcribe audio files in a specific folder and save the transcriptions to JSON files\n",
    "def mooc_multi_whisper_transcribe_audio_folder(filenames, filepaths, temperature, transcriptions_info_path, raw_text_path):\n",
    "    raw_text = {}\n",
    "    transcriptions_info = {}\n",
    "\n",
    "    for filename, filepath in zip(filenames, filepaths):\n",
    "        if filename.endswith(\".mp3\"):    # Remove '.mp3' extension from the filename\n",
    "            base_filename = filename[:-4]\n",
    "            parts = base_filename.split('-') # Split filename to extract studentID, word, and trueLabel\n",
    "            studentID = parts[0] + '-' + parts[1]\n",
    "            word = parts[2]\n",
    "            trueLabel = 'intelligible' if parts[3] == '1' else 'unintelligible'\n",
    "\n",
    "            result = whisper_top_res(filepath, temperature) # HERE TEMPERATURE SHOULD BE GIVEN\n",
    "            segments_info = []  # Extract required fields from all segments\n",
    "            segment_info = {\n",
    "                    \"text and avg_logprob\": result # to differ from the 'text_one' since here we have mulitple in a list\n",
    "                    }\n",
    "            segments_info.append(segment_info)\n",
    "\n",
    "            transcriptions_info[base_filename] = {\n",
    "                \"studentID\": studentID,\n",
    "                \"word\": word,\n",
    "                \"trueLabel\": trueLabel,\n",
    "                \"segments\": segments_info\n",
    "            }\n",
    "\n",
    "            raw_text[base_filename] = result\n",
    "    #return transcriptions_info, raw_text\n",
    "    with open(transcriptions_info_path, 'w') as json_file: #and save the detailed transcriptions info to a JSON file\n",
    "        json.dump(transcriptions_info, json_file, indent=4)\n",
    "    print(f\"Transcription info saved to {transcriptions_info_path}\")\n",
    "\n",
    "    with open(raw_text_path, 'w') as json_file: # Save the raw transcriptions to a JSON file\n",
    "        json.dump(raw_text, json_file, indent=4)\n",
    "    print(f\"Raw transcription saved to {raw_text_path}\")"
   ]
  },
  {
   "cell_type": "markdown",
   "metadata": {
    "id": "MemwLZmoZ5MK"
   },
   "source": [
    "## given the limit of google colab on session time and time taken, transcribing batches at severel temperature values at one time is not viable. Therefore, it is done at one temperature per session"
   ]
  },
  {
   "cell_type": "code",
   "execution_count": 19,
   "metadata": {
    "colab": {
     "base_uri": "https://localhost:8080/"
    },
    "executionInfo": {
     "elapsed": 13446,
     "status": "ok",
     "timestamp": 1759597733371,
     "user": {
      "displayName": "malta zh",
      "userId": "18304279520126745870"
     },
     "user_tz": -120
    },
    "id": "OX5P3CXgT9Xs",
    "outputId": "a4da6799-4c36-48f5-88c8-a19263493145"
   },
   "outputs": [
    {
     "name": "stdout",
     "output_type": "stream",
     "text": [
      "Transcription info saved to content/gdrive/MyDrive/Colab Notebooks/file/tst_json_files/transcription_output/whisper_raw_transcription_info/multi_raw_info_result_whisper04.json\n",
      "Raw transcription saved to content/gdrive/MyDrive/Colab Notebooks/file/tst_json_files/transcription_output/whisper_raw_text/multi_raw_text_result_whisper04.json\n"
     ]
    }
   ],
   "source": [
    "# TESTING with a small number of data at temperature 0.4\n",
    "dum_filepaths = mooc_filepaths[0:10]\n",
    "dum_filenames = flatten_mooc_filenames [0:10]\n",
    "dum_transcriptions_info_path04 = 'content/gdrive/MyDrive/Colab Notebooks/file/tst_json_files/transcription_output/whisper_raw_transcription_info/multi_raw_info_result_whisper04.json'\n",
    "dum_raw_text_path04 = 'content/gdrive/MyDrive/Colab Notebooks/file/tst_json_files/transcription_output/whisper_raw_text/multi_raw_text_result_whisper04.json'\n",
    "# Create directories if they don't exist\n",
    "os.makedirs(os.path.dirname(dum_transcriptions_info_path04), exist_ok=True)\n",
    "os.makedirs(os.path.dirname(dum_raw_text_path04), exist_ok=True)\n",
    "# Calling\n",
    "mooc_multi_whisper_transcribe_audio_folder(dum_filenames, dum_filepaths, 0.4, dum_transcriptions_info_path04, dum_raw_text_path04)"
   ]
  },
  {
   "cell_type": "code",
   "execution_count": null,
   "metadata": {
    "id": "tjqH8ozqVZ0J"
   },
   "outputs": [],
   "source": [
    "# calling dev at temperature 0.1\n",
    "# filenames for development: dev_fn\n",
    "#file paths for development: dev_fp\n",
    "whisper_transcriptions_info_path01 = 'content/gdrive/MyDrive/Colab Notebooks/file/tst_json_files/transcription_output/whisper_raw_transcription_info/whisper01_raw_info_result.json'\n",
    "whisper_raw_text_path01 = 'content/gdrive/MyDrive/Colab Notebooks/file/tst_json_files/transcription_output/whisper_raw_text/whisper01_raw_text_result.json'\n",
    "# Create directories if they don't exist\n",
    "os.makedirs(os.path.dirname(whisper_transcriptions_info_path01), exist_ok=True)\n",
    "os.makedirs(os.path.dirname(whisper_raw_text_path01), exist_ok=True)\n",
    "# Calling\n",
    "mooc_multi_whisper_transcribe_audio_folder(dev_fn, dev_fp, 0.1, whisper_transcriptions_info_path01, whisper_raw_text_path01)"
   ]
  },
  {
   "cell_type": "code",
   "execution_count": null,
   "metadata": {
    "colab": {
     "base_uri": "https://localhost:8080/",
     "height": 17
    },
    "executionInfo": {
     "elapsed": 6,
     "status": "ok",
     "timestamp": 1756140145854,
     "user": {
      "displayName": "malta zh",
      "userId": "18304279520126745870"
     },
     "user_tz": -120
    },
    "id": "Nn0E37avV-W6",
    "outputId": "3bb126f1-9dec-4569-c0cb-2f31185283f3"
   },
   "outputs": [
    {
     "data": {
      "application/javascript": [
       "\n",
       "    async function download(id, filename, size) {\n",
       "      if (!google.colab.kernel.accessAllowed) {\n",
       "        return;\n",
       "      }\n",
       "      const div = document.createElement('div');\n",
       "      const label = document.createElement('label');\n",
       "      label.textContent = `Downloading \"${filename}\": `;\n",
       "      div.appendChild(label);\n",
       "      const progress = document.createElement('progress');\n",
       "      progress.max = size;\n",
       "      div.appendChild(progress);\n",
       "      document.body.appendChild(div);\n",
       "\n",
       "      const buffers = [];\n",
       "      let downloaded = 0;\n",
       "\n",
       "      const channel = await google.colab.kernel.comms.open(id);\n",
       "      // Send a message to notify the kernel that we're ready.\n",
       "      channel.send({})\n",
       "\n",
       "      for await (const message of channel.messages) {\n",
       "        // Send a message to notify the kernel that we're ready.\n",
       "        channel.send({})\n",
       "        if (message.buffers) {\n",
       "          for (const buffer of message.buffers) {\n",
       "            buffers.push(buffer);\n",
       "            downloaded += buffer.byteLength;\n",
       "            progress.value = downloaded;\n",
       "          }\n",
       "        }\n",
       "      }\n",
       "      const blob = new Blob(buffers, {type: 'application/binary'});\n",
       "      const a = document.createElement('a');\n",
       "      a.href = window.URL.createObjectURL(blob);\n",
       "      a.download = filename;\n",
       "      div.appendChild(a);\n",
       "      a.click();\n",
       "      div.remove();\n",
       "    }\n",
       "  "
      ],
      "text/plain": [
       "<IPython.core.display.Javascript object>"
      ]
     },
     "metadata": {},
     "output_type": "display_data"
    },
    {
     "data": {
      "application/javascript": [
       "download(\"download_abe4e92e-9ad1-4840-8da8-3e9d9cc09b54\", \"whisper01_raw_info_result.json\", 16225844)"
      ],
      "text/plain": [
       "<IPython.core.display.Javascript object>"
      ]
     },
     "metadata": {},
     "output_type": "display_data"
    },
    {
     "data": {
      "application/javascript": [
       "\n",
       "    async function download(id, filename, size) {\n",
       "      if (!google.colab.kernel.accessAllowed) {\n",
       "        return;\n",
       "      }\n",
       "      const div = document.createElement('div');\n",
       "      const label = document.createElement('label');\n",
       "      label.textContent = `Downloading \"${filename}\": `;\n",
       "      div.appendChild(label);\n",
       "      const progress = document.createElement('progress');\n",
       "      progress.max = size;\n",
       "      div.appendChild(progress);\n",
       "      document.body.appendChild(div);\n",
       "\n",
       "      const buffers = [];\n",
       "      let downloaded = 0;\n",
       "\n",
       "      const channel = await google.colab.kernel.comms.open(id);\n",
       "      // Send a message to notify the kernel that we're ready.\n",
       "      channel.send({})\n",
       "\n",
       "      for await (const message of channel.messages) {\n",
       "        // Send a message to notify the kernel that we're ready.\n",
       "        channel.send({})\n",
       "        if (message.buffers) {\n",
       "          for (const buffer of message.buffers) {\n",
       "            buffers.push(buffer);\n",
       "            downloaded += buffer.byteLength;\n",
       "            progress.value = downloaded;\n",
       "          }\n",
       "        }\n",
       "      }\n",
       "      const blob = new Blob(buffers, {type: 'application/binary'});\n",
       "      const a = document.createElement('a');\n",
       "      a.href = window.URL.createObjectURL(blob);\n",
       "      a.download = filename;\n",
       "      div.appendChild(a);\n",
       "      a.click();\n",
       "      div.remove();\n",
       "    }\n",
       "  "
      ],
      "text/plain": [
       "<IPython.core.display.Javascript object>"
      ]
     },
     "metadata": {},
     "output_type": "display_data"
    },
    {
     "data": {
      "application/javascript": [
       "download(\"download_e9bc680e-a975-468a-8f4b-e2f178437844\", \"whisper01_raw_text_result.json\", 10177798)"
      ],
      "text/plain": [
       "<IPython.core.display.Javascript object>"
      ]
     },
     "metadata": {},
     "output_type": "display_data"
    }
   ],
   "source": [
    "files.download(whisper_transcriptions_info_path01)\n",
    "files.download(whisper_raw_text_path01)\n",
    "# downloaded; took 3 hrs to run one"
   ]
  },
  {
   "cell_type": "code",
   "execution_count": null,
   "metadata": {
    "id": "J_wKPwtnWQsV"
   },
   "outputs": [],
   "source": [
    "# Calling dev at temperature 0.3\n",
    "whisper_transcriptions_info_path03 = 'content/gdrive/MyDrive/Colab Notebooks/file/tst_json_files/transcription_output/whisper_raw_transcription_info/whisper03_raw_info_result.json'\n",
    "whisper_raw_text_path03 = 'content/gdrive/MyDrive/Colab Notebooks/file/tst_json_files/transcription_output/whisper_raw_text/whisper03_raw_text_result.json'\n",
    "# Create directories if they don't exist\n",
    "os.makedirs(os.path.dirname(whisper_transcriptions_info_path03), exist_ok=True)\n",
    "os.makedirs(os.path.dirname(whisper_raw_text_path03), exist_ok=True)\n",
    "\n",
    "mooc_multi_whisper_transcribe_audio_folder(dev_fn, dev_fp, 0.3, whisper_transcriptions_info_path03, whisper_raw_text_path03)"
   ]
  },
  {
   "cell_type": "code",
   "execution_count": null,
   "metadata": {
    "id": "fqJjWVwku_nS"
   },
   "outputs": [],
   "source": [
    "files.download(whisper_transcriptions_info_path03)\n",
    "files.download(whisper_raw_text_path03)\n",
    "## downloaded; took 3 hrs to run one"
   ]
  },
  {
   "cell_type": "code",
   "execution_count": null,
   "metadata": {
    "id": "KmcKwWOzcuwq"
   },
   "outputs": [],
   "source": [
    "# Calling at temperature 0.5\n",
    "whisper_transcriptions_info_path05 = 'content/gdrive/MyDrive/Colab Notebooks/file/tst_json_files/transcription_output/whisper_raw_transcription_info/whisper05_raw_info_result.json'\n",
    "whisper_raw_text_path05 = 'content/gdrive/MyDrive/Colab Notebooks/file/tst_json_files/transcription_output/whisper_raw_text/whisper05_raw_text_result.json'\n",
    "# Create directories if they don't exist\n",
    "os.makedirs(os.path.dirname(whisper_transcriptions_info_path05), exist_ok=True)\n",
    "os.makedirs(os.path.dirname(whisper_raw_text_path05), exist_ok=True)\n",
    "\n",
    "mooc_multi_whisper_transcribe_audio_folder(dev_fn, dev_fp, 0.5, whisper_transcriptions_info_path05, whisper_raw_text_path05)"
   ]
  },
  {
   "cell_type": "code",
   "execution_count": null,
   "metadata": {
    "id": "Uh3NB5dPvFYB"
   },
   "outputs": [],
   "source": [
    "files.download(whisper_transcriptions_info_path05)\n",
    "files.download(whisper_raw_text_path05)\n"
   ]
  },
  {
   "cell_type": "code",
   "execution_count": null,
   "metadata": {
    "colab": {
     "base_uri": "https://localhost:8080/"
    },
    "executionInfo": {
     "elapsed": 9073731,
     "status": "ok",
     "timestamp": 1756298423630,
     "user": {
      "displayName": "malta zh",
      "userId": "18304279520126745870"
     },
     "user_tz": -120
    },
    "id": "Tk_ALRKJdI2-",
    "outputId": "7beb9767-3b72-4773-b559-143497814e58"
   },
   "outputs": [
    {
     "name": "stdout",
     "output_type": "stream",
     "text": [
      "Transcription info saved to content/gdrive/MyDrive/Colab Notebooks/file/tst_json_files/transcription_output/whisper_raw_transcription_info/whisper07_raw_info_result.json\n",
      "Raw transcription saved to content/gdrive/MyDrive/Colab Notebooks/file/tst_json_files/transcription_output/whisper_raw_text/whisper07_raw_text_result.json\n"
     ]
    }
   ],
   "source": [
    "# Calling at temperature 0.7\n",
    "whisper_transcriptions_info_path07 = 'content/gdrive/MyDrive/Colab Notebooks/file/tst_json_files/transcription_output/whisper_raw_transcription_info/whisper07_raw_info_result.json'\n",
    "whisper_raw_text_path07 = 'content/gdrive/MyDrive/Colab Notebooks/file/tst_json_files/transcription_output/whisper_raw_text/whisper07_raw_text_result.json'\n",
    "# Create directories if they don't exist\n",
    "os.makedirs(os.path.dirname(whisper_transcriptions_info_path07), exist_ok=True)\n",
    "os.makedirs(os.path.dirname(whisper_raw_text_path07), exist_ok=True)\n",
    "\n",
    "mooc_multi_whisper_transcribe_audio_folder(dev_fn, dev_fp, 0.7, whisper_transcriptions_info_path07, whisper_raw_text_path07)"
   ]
  },
  {
   "cell_type": "code",
   "execution_count": null,
   "metadata": {
    "colab": {
     "base_uri": "https://localhost:8080/",
     "height": 17
    },
    "executionInfo": {
     "elapsed": 12,
     "status": "ok",
     "timestamp": 1756298675443,
     "user": {
      "displayName": "malta zh",
      "userId": "18304279520126745870"
     },
     "user_tz": -120
    },
    "id": "jynuz462xuVq",
    "outputId": "e6b822e4-704b-4a78-e858-b39f7fdb0852"
   },
   "outputs": [
    {
     "data": {
      "application/javascript": [
       "\n",
       "    async function download(id, filename, size) {\n",
       "      if (!google.colab.kernel.accessAllowed) {\n",
       "        return;\n",
       "      }\n",
       "      const div = document.createElement('div');\n",
       "      const label = document.createElement('label');\n",
       "      label.textContent = `Downloading \"${filename}\": `;\n",
       "      div.appendChild(label);\n",
       "      const progress = document.createElement('progress');\n",
       "      progress.max = size;\n",
       "      div.appendChild(progress);\n",
       "      document.body.appendChild(div);\n",
       "\n",
       "      const buffers = [];\n",
       "      let downloaded = 0;\n",
       "\n",
       "      const channel = await google.colab.kernel.comms.open(id);\n",
       "      // Send a message to notify the kernel that we're ready.\n",
       "      channel.send({})\n",
       "\n",
       "      for await (const message of channel.messages) {\n",
       "        // Send a message to notify the kernel that we're ready.\n",
       "        channel.send({})\n",
       "        if (message.buffers) {\n",
       "          for (const buffer of message.buffers) {\n",
       "            buffers.push(buffer);\n",
       "            downloaded += buffer.byteLength;\n",
       "            progress.value = downloaded;\n",
       "          }\n",
       "        }\n",
       "      }\n",
       "      const blob = new Blob(buffers, {type: 'application/binary'});\n",
       "      const a = document.createElement('a');\n",
       "      a.href = window.URL.createObjectURL(blob);\n",
       "      a.download = filename;\n",
       "      div.appendChild(a);\n",
       "      a.click();\n",
       "      div.remove();\n",
       "    }\n",
       "  "
      ],
      "text/plain": [
       "<IPython.core.display.Javascript object>"
      ]
     },
     "metadata": {},
     "output_type": "display_data"
    },
    {
     "data": {
      "application/javascript": [
       "download(\"download_c707766c-788f-4af5-a041-8ed4fb5a16d7\", \"whisper07_raw_info_result.json\", 16330428)"
      ],
      "text/plain": [
       "<IPython.core.display.Javascript object>"
      ]
     },
     "metadata": {},
     "output_type": "display_data"
    },
    {
     "data": {
      "application/javascript": [
       "\n",
       "    async function download(id, filename, size) {\n",
       "      if (!google.colab.kernel.accessAllowed) {\n",
       "        return;\n",
       "      }\n",
       "      const div = document.createElement('div');\n",
       "      const label = document.createElement('label');\n",
       "      label.textContent = `Downloading \"${filename}\": `;\n",
       "      div.appendChild(label);\n",
       "      const progress = document.createElement('progress');\n",
       "      progress.max = size;\n",
       "      div.appendChild(progress);\n",
       "      document.body.appendChild(div);\n",
       "\n",
       "      const buffers = [];\n",
       "      let downloaded = 0;\n",
       "\n",
       "      const channel = await google.colab.kernel.comms.open(id);\n",
       "      // Send a message to notify the kernel that we're ready.\n",
       "      channel.send({})\n",
       "\n",
       "      for await (const message of channel.messages) {\n",
       "        // Send a message to notify the kernel that we're ready.\n",
       "        channel.send({})\n",
       "        if (message.buffers) {\n",
       "          for (const buffer of message.buffers) {\n",
       "            buffers.push(buffer);\n",
       "            downloaded += buffer.byteLength;\n",
       "            progress.value = downloaded;\n",
       "          }\n",
       "        }\n",
       "      }\n",
       "      const blob = new Blob(buffers, {type: 'application/binary'});\n",
       "      const a = document.createElement('a');\n",
       "      a.href = window.URL.createObjectURL(blob);\n",
       "      a.download = filename;\n",
       "      div.appendChild(a);\n",
       "      a.click();\n",
       "      div.remove();\n",
       "    }\n",
       "  "
      ],
      "text/plain": [
       "<IPython.core.display.Javascript object>"
      ]
     },
     "metadata": {},
     "output_type": "display_data"
    },
    {
     "data": {
      "application/javascript": [
       "download(\"download_09348b3d-5d53-4ea2-8aff-ea26dba4f7d2\", \"whisper07_raw_text_result.json\", 10282382)"
      ],
      "text/plain": [
       "<IPython.core.display.Javascript object>"
      ]
     },
     "metadata": {},
     "output_type": "display_data"
    }
   ],
   "source": [
    "files.download(whisper_transcriptions_info_path07)\n",
    "files.download(whisper_raw_text_path07)\n",
    "##downloaded, took 2.20hrs"
   ]
  },
  {
   "cell_type": "code",
   "execution_count": null,
   "metadata": {
    "colab": {
     "base_uri": "https://localhost:8080/"
    },
    "executionInfo": {
     "elapsed": 7369705,
     "status": "ok",
     "timestamp": 1756306053988,
     "user": {
      "displayName": "malta zh",
      "userId": "18304279520126745870"
     },
     "user_tz": -120
    },
    "id": "JsDaYkb5dTwH",
    "outputId": "a7b60eef-675e-4d62-dd9c-e55e0a8042fc"
   },
   "outputs": [
    {
     "name": "stdout",
     "output_type": "stream",
     "text": [
      "Transcription info saved to content/gdrive/MyDrive/Colab Notebooks/file/tst_json_files/transcription_output/whisper_raw_transcription_info/whisper09_raw_info_result.json\n",
      "Raw transcription saved to content/gdrive/MyDrive/Colab Notebooks/file/tst_json_files/transcription_output/whisper_raw_text/whisper09_raw_text_result.json\n"
     ]
    }
   ],
   "source": [
    "# Calling at temperature 0.9\n",
    "\n",
    "whisper_transcriptions_info_path09 = 'content/gdrive/MyDrive/Colab Notebooks/file/tst_json_files/transcription_output/whisper_raw_transcription_info/whisper09_raw_info_result.json'\n",
    "whisper_raw_text_path09 = 'content/gdrive/MyDrive/Colab Notebooks/file/tst_json_files/transcription_output/whisper_raw_text/whisper09_raw_text_result.json'\n",
    "# Create directories if they don't exist\n",
    "os.makedirs(os.path.dirname(whisper_transcriptions_info_path09), exist_ok=True)\n",
    "os.makedirs(os.path.dirname(whisper_raw_text_path09), exist_ok=True)\n",
    "\n",
    "mooc_multi_whisper_transcribe_audio_folder(dev_fn, dev_fp, 0.9, whisper_transcriptions_info_path09, whisper_raw_text_path09)"
   ]
  },
  {
   "cell_type": "code",
   "execution_count": null,
   "metadata": {
    "colab": {
     "base_uri": "https://localhost:8080/",
     "height": 17
    },
    "executionInfo": {
     "elapsed": 12,
     "status": "ok",
     "timestamp": 1756306083848,
     "user": {
      "displayName": "malta zh",
      "userId": "18304279520126745870"
     },
     "user_tz": -120
    },
    "id": "hQRcM8O8xyBE",
    "outputId": "5950e940-e5cb-4939-bbca-0854744a53b4"
   },
   "outputs": [
    {
     "data": {
      "application/javascript": [
       "\n",
       "    async function download(id, filename, size) {\n",
       "      if (!google.colab.kernel.accessAllowed) {\n",
       "        return;\n",
       "      }\n",
       "      const div = document.createElement('div');\n",
       "      const label = document.createElement('label');\n",
       "      label.textContent = `Downloading \"${filename}\": `;\n",
       "      div.appendChild(label);\n",
       "      const progress = document.createElement('progress');\n",
       "      progress.max = size;\n",
       "      div.appendChild(progress);\n",
       "      document.body.appendChild(div);\n",
       "\n",
       "      const buffers = [];\n",
       "      let downloaded = 0;\n",
       "\n",
       "      const channel = await google.colab.kernel.comms.open(id);\n",
       "      // Send a message to notify the kernel that we're ready.\n",
       "      channel.send({})\n",
       "\n",
       "      for await (const message of channel.messages) {\n",
       "        // Send a message to notify the kernel that we're ready.\n",
       "        channel.send({})\n",
       "        if (message.buffers) {\n",
       "          for (const buffer of message.buffers) {\n",
       "            buffers.push(buffer);\n",
       "            downloaded += buffer.byteLength;\n",
       "            progress.value = downloaded;\n",
       "          }\n",
       "        }\n",
       "      }\n",
       "      const blob = new Blob(buffers, {type: 'application/binary'});\n",
       "      const a = document.createElement('a');\n",
       "      a.href = window.URL.createObjectURL(blob);\n",
       "      a.download = filename;\n",
       "      div.appendChild(a);\n",
       "      a.click();\n",
       "      div.remove();\n",
       "    }\n",
       "  "
      ],
      "text/plain": [
       "<IPython.core.display.Javascript object>"
      ]
     },
     "metadata": {},
     "output_type": "display_data"
    },
    {
     "data": {
      "application/javascript": [
       "download(\"download_3a5b5fad-ffb2-4d6e-ab6c-c77f90ae7d1c\", \"whisper09_raw_info_result.json\", 16462585)"
      ],
      "text/plain": [
       "<IPython.core.display.Javascript object>"
      ]
     },
     "metadata": {},
     "output_type": "display_data"
    },
    {
     "data": {
      "application/javascript": [
       "\n",
       "    async function download(id, filename, size) {\n",
       "      if (!google.colab.kernel.accessAllowed) {\n",
       "        return;\n",
       "      }\n",
       "      const div = document.createElement('div');\n",
       "      const label = document.createElement('label');\n",
       "      label.textContent = `Downloading \"${filename}\": `;\n",
       "      div.appendChild(label);\n",
       "      const progress = document.createElement('progress');\n",
       "      progress.max = size;\n",
       "      div.appendChild(progress);\n",
       "      document.body.appendChild(div);\n",
       "\n",
       "      const buffers = [];\n",
       "      let downloaded = 0;\n",
       "\n",
       "      const channel = await google.colab.kernel.comms.open(id);\n",
       "      // Send a message to notify the kernel that we're ready.\n",
       "      channel.send({})\n",
       "\n",
       "      for await (const message of channel.messages) {\n",
       "        // Send a message to notify the kernel that we're ready.\n",
       "        channel.send({})\n",
       "        if (message.buffers) {\n",
       "          for (const buffer of message.buffers) {\n",
       "            buffers.push(buffer);\n",
       "            downloaded += buffer.byteLength;\n",
       "            progress.value = downloaded;\n",
       "          }\n",
       "        }\n",
       "      }\n",
       "      const blob = new Blob(buffers, {type: 'application/binary'});\n",
       "      const a = document.createElement('a');\n",
       "      a.href = window.URL.createObjectURL(blob);\n",
       "      a.download = filename;\n",
       "      div.appendChild(a);\n",
       "      a.click();\n",
       "      div.remove();\n",
       "    }\n",
       "  "
      ],
      "text/plain": [
       "<IPython.core.display.Javascript object>"
      ]
     },
     "metadata": {},
     "output_type": "display_data"
    },
    {
     "data": {
      "application/javascript": [
       "download(\"download_1de706f6-2cb1-4ca6-b982-e1d7b3e50602\", \"whisper09_raw_text_result.json\", 10414539)"
      ],
      "text/plain": [
       "<IPython.core.display.Javascript object>"
      ]
     },
     "metadata": {},
     "output_type": "display_data"
    }
   ],
   "source": [
    "files.download(whisper_transcriptions_info_path09)\n",
    "files.download(whisper_raw_text_path09)\n",
    "##"
   ]
  },
  {
   "cell_type": "code",
   "execution_count": null,
   "metadata": {
    "id": "rK5uyJPLL5V5"
   },
   "outputs": [],
   "source": [
    "# Load the JSON data from a file\n",
    "def load_json(json_file_path):\n",
    "    with open(json_file_path, 'r') as file:\n",
    "        data = json.load(file)\n",
    "    return data\n",
    "\n",
    "# Preprocesses the text by removing leading spaces and punctuations, and converting to lowercase.\n",
    "def preprocess_text(text):\n",
    "    text = text.strip()\n",
    "    text = text.translate(str.maketrans('', '', string.punctuation))\n",
    "    text = text.lower()\n",
    "    return text\n",
    "\n",
    "# Convert numbers to words if necessary\n",
    "def convert_number_to_word(text):\n",
    "    words = text.split()\n",
    "    converted_words = []\n",
    "    for word in words:\n",
    "        if word.isdigit():\n",
    "            converted_word = num2words(int(word))  # Convert number to word\n",
    "            converted_words.append(converted_word)\n",
    "        else:\n",
    "            converted_words.append(word)\n",
    "    return ' '.join(converted_words)\n",
    "\n",
    "# Function to retrieve phonetic representations from CMU Pronouncing Dictionary.\n",
    "def get_phonetic_representation(word):\n",
    "    phonetic_representations = cmu_dict.get(word.lower())\n",
    "    if phonetic_representations:\n",
    "        return ' '.join(phonetic_representations[0])  # Join the phonetic representations with space\n",
    "    else:\n",
    "        return 'N/A'  # Return 'N/A' if word not found in dictionary\n"
   ]
  },
  {
   "cell_type": "markdown",
   "metadata": {
    "id": "JbXsJ4uSL5V5"
   },
   "source": [
    "### Preprocesses the segment texts and calculates the confidence score for each transcription -- modified version\n"
   ]
  },
  {
   "cell_type": "code",
   "execution_count": 65,
   "metadata": {
    "id": "p7c88WxAL5V5"
   },
   "outputs": [],
   "source": [
    "def model_preprocess_and_calculate_multi(json_file_path):\n",
    "    data = load_json(json_file_path)\n",
    "    preprocessed_results = {}\n",
    "\n",
    "    for key, value in data.items():\n",
    "        studentID = value[\"studentID\"]\n",
    "        word = value[\"word\"]\n",
    "        trueLabel = value[\"trueLabel\"]\n",
    "        segments = value[\"segments\"]\n",
    "        true_transcription_stripped = convert_number_to_word(word)  # Convert true transcription to words if necessary\n",
    "        true_phonetic_rep = get_phonetic_representation(true_transcription_stripped) # Get phonetic representations for both true and whisper's transcriptions\n",
    "        # Preprocess text\n",
    "        text_avglog_list = segments[0][\"text and avg_logprob\"]\n",
    "        lst_model_transcription = []\n",
    "        lst_true_phonetic_rep = []\n",
    "        lst_model_phonetic_rep = []\n",
    "        lst_model_judge_phonetic = []\n",
    "        lst_confidence_scores = []\n",
    "        for text in text_avglog_list: ## its a list of dictionary containing text and average log prob\n",
    "            preprocessed_texts = []\n",
    "            ## setting confidence score to 0 if len(SGM) >1\n",
    "            ## SETTING CONFIDENCE SCORE TO 0 if there's no word\n",
    "            if len(text['text']) == 0:\n",
    "                confidence_score = 0\n",
    "                preprocessed_texts.append('')\n",
    "                print(f\"No transcriptions for audio file: {studentID}_{word}\")\n",
    "            else:\n",
    "                avg_logprob = text[\"avg_logprob\"]\n",
    "                confidence_score = round(math.exp(avg_logprob), 3)\n",
    "                preprocessed_text = preprocess_text(text['text'])\n",
    "                preprocessed_texts.append(preprocessed_text)\n",
    "\n",
    "            lst_confidence_scores.append(confidence_score) # collecting confidence scores\n",
    "            # Join and process text for all cases\n",
    "            model_transcription = ' '.join(preprocessed_texts).strip()\n",
    "            model_transcription = convert_number_to_word(model_transcription)  # Convert numbers to words if necessary\n",
    "            lst_model_transcription.append(model_transcription)      # DECIDING NOT USE WHISPER_JUDGE;\n",
    "\n",
    "\n",
    "            lst_true_phonetic_rep.append(true_phonetic_rep)\n",
    "            model_phonetic_rep = get_phonetic_representation(model_transcription)\n",
    "            lst_model_phonetic_rep.append(model_phonetic_rep)\n",
    "            lst_topn=[]  ### NEW CONVERSION OF DATA FORMAT\n",
    "\n",
    "            for a, b, d in zip(lst_model_transcription,lst_confidence_scores,lst_model_phonetic_rep):\n",
    "                dict_new={'model_transcription':a,'confidence score':b,'model_phonetic_rep':d}\n",
    "                lst_topn.append(dict_new)\n",
    " ### SPECIFIC TO WHISPER TO SELECT UNIQUE ONES\n",
    "            lst_uniq_text = [] #unique text list\n",
    "            filtered_lst_topn = [] # filtered item\n",
    "\n",
    "            dummy_result={'model_transcription': 'N/A', 'confidence score': 0, 'model_phonetic_rep': 'N/A'} # To refill when a word has less than three unique results\n",
    "            for item in lst_topn:\n",
    "                if item['model_transcription'] not in lst_uniq_text:\n",
    "                    lst_uniq_text.append(item['model_transcription'])\n",
    "                    filtered_lst_topn.append(item)\n",
    " ### CHOOSING TOP THREE:\n",
    "            if len(filtered_lst_topn) == 1:\n",
    "                final_filtered_topn = [filtered_lst_topn[0],dummy_result,dummy_result] #Not every output has more than 3 results, we fill if any output is less than 3 with dummy_result\n",
    "            if len(filtered_lst_topn) == 2:\n",
    "                final_filtered_topn = [filtered_lst_topn[0],filtered_lst_topn[1],dummy_result]\n",
    "            if len(filtered_lst_topn) >= 3:\n",
    "                 final_filtered_topn = [filtered_lst_topn[0],filtered_lst_topn[1],filtered_lst_topn[2]]\n",
    "\n",
    "\n",
    "        preprocessed_results[key] = {\n",
    "            \"studentID\": studentID,\n",
    "            \"true_transcription\": word,\n",
    "            \"trueLabel\": trueLabel,\n",
    "            \"true_phonetic_rep\":true_phonetic_rep,\n",
    "            \"uniq res\": filtered_lst_topn,\n",
    "            \"top res\": final_filtered_topn # ADPATED\n",
    "            }\n",
    "\n",
    "    return preprocessed_results"
   ]
  },
  {
   "cell_type": "code",
   "execution_count": 66,
   "metadata": {
    "id": "TWtspNbEL5V5"
   },
   "outputs": [
    {
     "name": "stdout",
     "output_type": "stream",
     "text": [
      "No transcriptions for audio file: series07-s00129_city\n",
      "No transcriptions for audio file: series04-s00009_cot\n",
      "No transcriptions for audio file: series04-s00015_meet\n"
     ]
    }
   ],
   "source": [
    "multi_whisper_transcription_info_07 =  \"./tst_json_files/transcription_output/whisper_raw_transcription_info/whisper07_raw_info_result.json\"\n",
    "# preprocess the json using multi_whisper_preprocess_and_calculate\n",
    "whisper_multi_res07 = model_preprocess_and_calculate_multi(multi_whisper_transcription_info_07)"
   ]
  },
  {
   "cell_type": "code",
   "execution_count": 67,
   "metadata": {
    "id": "IoCbqyTOL5V6",
    "outputId": "1e2bf6ad-1842-457e-8cc2-8554e553a4ee"
   },
   "outputs": [
    {
     "name": "stdout",
     "output_type": "stream",
     "text": [
      "<class 'dict'>\n",
      "series01-s00000-Paul-1\n",
      "{'studentID': 'series01-s00000', 'word': 'Paul', 'trueLabel': 'intelligible', 'segments': [{'text and avg_logprob': [{'text': 'poll', 'avg_logprob': -1.392437219619751}, {'text': 'poll', 'avg_logprob': -1.8757894039154053}, {'text': 'Paul?', 'avg_logprob': -1.8223232269287108}, {'text': \"I'm a...\", 'avg_logprob': -3.1334122249058316}, {'text': 'Paul?', 'avg_logprob': -1.967156982421875}, {'text': 'Palm.', 'avg_logprob': -2.514944648742676}, {'text': 'Phone.', 'avg_logprob': -1.4076932907104491}, {'text': 'Phone.', 'avg_logprob': -1.8013404846191405}, {'text': 'Pawn.', 'avg_logprob': -1.9184025128682454}, {'text': 'Po.', 'avg_logprob': -2.200906753540039}, {'text': 'Poll.', 'avg_logprob': -1.5466182708740235}, {'text': 'Oh', 'avg_logprob': -1.5360673666000366}, {'text': 'poem', 'avg_logprob': -2.0536837577819824}, {'text': 'Paul', 'avg_logprob': -1.7002261877059937}, {'text': 'poll', 'avg_logprob': -1.63498055934906}, {'text': 'poll', 'avg_logprob': -2.282268762588501}, {'text': 'poll', 'avg_logprob': -1.4266287088394165}, {'text': 'Paul?', 'avg_logprob': -1.9193546295166015}, {'text': 'poll', 'avg_logprob': -3.189046859741211}, {'text': 'Pole.', 'avg_logprob': -1.6747987747192383}]}]}\n"
     ]
    }
   ],
   "source": [
    "# inspecting an example of raw transcription\n",
    "filexample = load_json(multi_whisper_transcription_info_07)\n",
    "print(type(filexample))\n",
    "for key, value in filexample.items():\n",
    "    print(key)\n",
    "    print(value)\n",
    "    break"
   ]
  },
  {
   "cell_type": "code",
   "execution_count": 68,
   "metadata": {
    "id": "BkTi7djSL5V6",
    "outputId": "c3c5a99d-d10b-488b-ca83-797de228215e"
   },
   "outputs": [
    {
     "name": "stdout",
     "output_type": "stream",
     "text": [
      "[{'model_transcription': 'poll', 'confidence score': 0.248, 'model_phonetic_rep': 'P OW1 L'}, {'model_transcription': 'paul', 'confidence score': 0.162, 'model_phonetic_rep': 'P AO1 L'}, {'model_transcription': 'im a', 'confidence score': 0.044, 'model_phonetic_rep': 'N/A'}]\n"
     ]
    }
   ],
   "source": [
    "# Inspecting collection of transcriptions\n",
    "xam=[]\n",
    "for key, value in whisper_multi_res07.items():\n",
    "   # print (key)\n",
    "    xam.append((value['uniq res']))\n",
    "    print (value['top res'])\n",
    "    break\n"
   ]
  },
  {
   "cell_type": "code",
   "execution_count": 69,
   "metadata": {
    "id": "XzhHLncvL5V7"
   },
   "outputs": [],
   "source": [
    "# obtain process output of transcription\n",
    "list_of_raw_info = [\"./tst_json_files/transcription_output/whisper_raw_transcription_info/whisper01_raw_info_result.json\",\n",
    "                   \"./tst_json_files/transcription_output/whisper_raw_transcription_info/whisper03_raw_info_result.json\",\n",
    "                   \"./tst_json_files/transcription_output/whisper_raw_transcription_info/whisper05_raw_info_result.json\",\n",
    "                   \"./tst_json_files/transcription_output/whisper_raw_transcription_info/whisper07_raw_info_result.json\",\n",
    "                   \"./tst_json_files/transcription_output/whisper_raw_transcription_info/whisper09_raw_info_result.json\"]\n",
    "\n",
    "list_of_output_json_file = [\"./tst_json_files/transcription_output/whisper_processed_output/whisper01_output.json\",\n",
    "                            \"./tst_json_files/transcription_output/whisper_processed_output/whisper03_output.json\",\n",
    "                            \"./tst_json_files/transcription_output/whisper_processed_output/whisper05_output.json\",\n",
    "                            \"./tst_json_files/transcription_output/whisper_processed_output/whisper07_output.json\",\n",
    "                            \"./tst_json_files/transcription_output/whisper_processed_output/whisper09_output.json\"\n",
    "                           ]\n"
   ]
  },
  {
   "cell_type": "code",
   "execution_count": 70,
   "metadata": {
    "id": "qC9-ZXrLL5V7",
    "outputId": "a4889e91-4290-4790-86d9-a33b941378da"
   },
   "outputs": [
    {
     "name": "stdout",
     "output_type": "stream",
     "text": [
      "Preprocessed results saved to ./tst_json_files/transcription_output/whisper_processed_output/whisper01_output.json\n",
      "Preprocessed results saved to ./tst_json_files/transcription_output/whisper_processed_output/whisper03_output.json\n",
      "No transcriptions for audio file: series06-s00017_knows\n",
      "No transcriptions for audio file: series05-s000073_seedy\n",
      "Preprocessed results saved to ./tst_json_files/transcription_output/whisper_processed_output/whisper05_output.json\n",
      "No transcriptions for audio file: series07-s00129_city\n",
      "No transcriptions for audio file: series04-s00009_cot\n",
      "No transcriptions for audio file: series04-s00015_meet\n",
      "Preprocessed results saved to ./tst_json_files/transcription_output/whisper_processed_output/whisper07_output.json\n",
      "No transcriptions for audio file: series07-s00008_bard\n",
      "No transcriptions for audio file: series07-s00063_bear\n",
      "No transcriptions for audio file: series03-s0000128_beer\n",
      "No transcriptions for audio file: series04-s00028_boy\n",
      "No transcriptions for audio file: series07-s00038_buy\n",
      "No transcriptions for audio file: series07-s00015_city\n",
      "No transcriptions for audio file: series05-s000019_cot\n",
      "No transcriptions for audio file: series07-s00103_daft\n",
      "No transcriptions for audio file: series01-s000032_farther\n",
      "No transcriptions for audio file: series06-s00005_farther\n",
      "No transcriptions for audio file: series04-s00037_hat\n",
      "No transcriptions for audio file: series01-s00000_pore\n",
      "No transcriptions for audio file: series03-s0000225_pore\n",
      "No transcriptions for audio file: series05-s000011_putt\n",
      "No transcriptions for audio file: series03-s0000126_tied\n",
      "Preprocessed results saved to ./tst_json_files/transcription_output/whisper_processed_output/whisper09_output.json\n"
     ]
    }
   ],
   "source": [
    "#CALLING\n",
    "for raw_info, output_json_file in zip(list_of_raw_info, list_of_output_json_file):\n",
    "    result = model_preprocess_and_calculate_multi(raw_info)\n",
    "    with open(output_json_file, 'w') as json_file:\n",
    "        json.dump(result, json_file, indent=4)\n",
    "    print(f\"Preprocessed results saved to {output_json_file}\")"
   ]
  },
  {
   "cell_type": "code",
   "execution_count": 71,
   "metadata": {
    "id": "W7nJoxxOL5V7"
   },
   "outputs": [],
   "source": [
    "# A FUNCTION TO FILTER NUMBER OF RESULTS USING PROCESSED RESULTS\n",
    "def filter_topn(whisper_multi_res):\n",
    "    collection_transcript = []\n",
    "    for key, value in whisper_multi_res.items():\n",
    "        collection_transcript.append(value['top res'])\n",
    "    fnl_unique=[]\n",
    "    fnl_lst_full=[]\n",
    "    freq_lst=[]\n",
    "    for collection_lst in collection_transcript:\n",
    "        lst_unique=[]\n",
    "        lst_full=[]\n",
    "        for item in collection_lst:\n",
    "            if item['model_transcription'] not in lst_unique:\n",
    "                lst_unique.append(item['model_transcription'])\n",
    "                lst_full.append(item)\n",
    "        #fnl_unique.append((len(lst_unique),lst_unique))\n",
    "        fnl_lst_full.append((len(lst_full),lst_full))\n",
    "        freq_lst.append(len(lst_full))\n",
    "    return fnl_lst_full, freq_lst"
   ]
  },
  {
   "cell_type": "code",
   "execution_count": 72,
   "metadata": {
    "id": "IZ4nJimvL5V7"
   },
   "outputs": [],
   "source": [
    "fnl_lst04,freq_lst04 =filter_topn(whisper_multi_res07) # TRYING TO PRINT THE TOP N RESULT OF EACH AUDIO"
   ]
  },
  {
   "cell_type": "markdown",
   "metadata": {
    "id": "7tFqaETlL5V8"
   },
   "source": [
    "print(fnl_lst04[34])"
   ]
  },
  {
   "cell_type": "code",
   "execution_count": 73,
   "metadata": {
    "id": "qV8xnherL5V8",
    "outputId": "d63a59f7-9195-4f0d-ca1a-02a6131c7b12"
   },
   "outputs": [
    {
     "name": "stdout",
     "output_type": "stream",
     "text": [
      "{2: 686, 3: 4429}\n"
     ]
    }
   ],
   "source": [
    "items = freq_lst04\n",
    "counts = {item: items.count(item) for item in set(items)}\n",
    "print(counts)"
   ]
  },
  {
   "cell_type": "markdown",
   "metadata": {
    "id": "HDG7046SL5V8"
   },
   "source": [
    "### Below is the result of how many unique transcrptions are distributed among the transcription at each temperature; for instance at temperature 0.1, there are 3869 results that only have one unique hypothesis , and 946 that have two hypotheses"
   ]
  },
  {
   "cell_type": "markdown",
   "metadata": {
    "id": "i4XiHq9nL5V8"
   },
   "source": [
    "#### Based on the distrubition, I decide to choose 0.3, 0.5 and 0.7 as three temperatures, and selet top 3 unique hypotheses. Moreover, since there are 686-2379 instances where only one hypothesis is available, I add the close to last hypothesis to fill them to 3 hypotheses.\n"
   ]
  },
  {
   "cell_type": "code",
   "execution_count": null,
   "metadata": {
    "id": "uk-jSCinL5V9"
   },
   "outputs": [],
   "source": [
    "# tem_data: temp_0x is the temperature. within the value, a key is the number of unique results and value is the quantity\n",
    "tem_data = {'temp_01': {1: 3869, 2: 946, 3: 217, 4: 58, 5: 16, 6: 6, 7: 1, 10: 2},\n",
    "        'temp_03': {1: 2379, 2: 1257, 3: 645, 4: 379, 5: 209, 6: 102, 7: 63, 8: 35, 9: 23, 10: 11, 11: 5, 13: 4, 15: 1, 16: 1, 18: 1},\n",
    "        'temp_05': {1: 1398, 2: 1057, 3: 758, 4: 554, 5: 365, 6: 285, 7: 235, 8: 139, 9: 113, 10: 72, 11: 51, 12: 33, 13: 22, 14: 16, 15: 5, 16: 8, 17: 1, 18: 3},\n",
    "        'temp_07': {1: 686, 2: 706, 3: 653, 4: 534, 5: 421, 6: 386, 7: 359, 8: 290, 9: 237, 10: 209, 11: 177, 12: 137, 13: 88, 14: 80, 15: 54, 16: 47, 17: 27, 18: 9, 19: 10, 20: 5},\n",
    "        'temp_09': {1: 170, 2: 268, 3: 389, 4: 354, 5: 371, 6: 343, 7: 374, 8: 350, 9: 347, 10: 308, 11: 286, 12: 270, 13: 258, 14: 231, 15: 222, 16: 194, 17: 142, 18: 112, 19: 77, 20: 49}\n",
    "        }"
   ]
  },
  {
   "cell_type": "code",
   "execution_count": null,
   "metadata": {
    "id": "0p8rwhdfL5V9"
   },
   "outputs": [],
   "source": [
    "import matplotlib.pyplot as plt # importing tools for visualisation\n",
    "import pandas as pd"
   ]
  },
  {
   "cell_type": "code",
   "execution_count": null,
   "metadata": {
    "id": "4drmiJALL5V9"
   },
   "outputs": [],
   "source": [
    "# Aggregating into bins 1, 2, 3, and 4+\n",
    "def whisper_unique_temp(data, filename):\n",
    "    aggregated = {}\n",
    "    for key, values in data.items():\n",
    "        agg = {\n",
    "        \"1\": values.get(1, 0),\n",
    "        \"2\": values.get(2, 0),\n",
    "        \"3\": values.get(3, 0),\n",
    "        \"4+\": sum(v for k, v in values.items() if k >= 4)\n",
    "        }\n",
    "        aggregated[key] = agg\n",
    "\n",
    "    df = pd.DataFrame(aggregated).T\n",
    "\n",
    "    df.plot(kind=\"bar\", figsize=(10, 6)) #Plotting\n",
    "    plt.title(\"Distribution of Temps across categories (1, 2, 3, 4+)\")\n",
    "    plt.xlabel(\"Temperatures\")\n",
    "    plt.ylabel(\"Frequency\")\n",
    "    plt.legend(title=\"Num Uniq Hypotheses\")\n",
    "    plt.xticks(rotation=0)\n",
    "    plt.tight_layout()\n",
    "    plt.savefig(f\"./graphs/{filename}\", bbox_inches='tight') # save the figure\n",
    "    plt.show()\n"
   ]
  },
  {
   "cell_type": "code",
   "execution_count": null,
   "metadata": {
    "id": "-OO-PgfpL5V9",
    "outputId": "6113188b-d592-494f-d38d-f94f763eaab6"
   },
   "outputs": [
    {
     "data": {
      "image/png": "[encoded data removed]",
      "text/plain": [
       "<Figure size 1000x600 with 1 Axes>"
      ]
     },
     "metadata": {},
     "output_type": "display_data"
    }
   ],
   "source": [
    "# calling\n",
    "whisper_unique_temp(tem_data,'distribution_unique_hypo_temps')"
   ]
  },
  {
   "cell_type": "markdown",
   "metadata": {
    "id": "kDT5ZpBpL5V-"
   },
   "source": [
    "### For the testfiles we use colab again to obtain predictions"
   ]
  },
  {
   "cell_type": "code",
   "execution_count": 21,
   "metadata": {
    "colab": {
     "base_uri": "https://localhost:8080/"
    },
    "executionInfo": {
     "elapsed": 8927314,
     "status": "ok",
     "timestamp": 1759606745252,
     "user": {
      "displayName": "malta zh",
      "userId": "18304279520126745870"
     },
     "user_tz": -120
    },
    "id": "xHHW8FOqL5V-",
    "outputId": "ba95cb8b-0ef3-466e-eced-bd3257daec67"
   },
   "outputs": [
    {
     "name": "stdout",
     "output_type": "stream",
     "text": [
      "Transcription info saved to content/gdrive/MyDrive/Colab Notebooks/file/tst_json_files/transcription_output/whisper_raw_transcription_info/test_whisper07_raw_info_result.json\n",
      "Raw transcription saved to content/gdrive/MyDrive/Colab Notebooks/file/tst_json_files/transcription_output/whisper_raw_text/test_whisper07_raw_text_result.json\n"
     ]
    }
   ],
   "source": [
    "# For testing file we choose temperature at 0.7\n",
    "test_whisper_transcriptions_info_path07 = 'content/gdrive/MyDrive/Colab Notebooks/file/tst_json_files/transcription_output/whisper_raw_transcription_info/test_whisper07_raw_info_result.json'\n",
    "test_whisper_raw_text_path07 = 'content/gdrive/MyDrive/Colab Notebooks/file/tst_json_files/transcription_output/whisper_raw_text/test_whisper07_raw_text_result.json'\n",
    "# Create directories if they don't exist\n",
    "os.makedirs(os.path.dirname(test_whisper_transcriptions_info_path07), exist_ok=True)\n",
    "os.makedirs(os.path.dirname(test_whisper_raw_text_path07), exist_ok=True)\n",
    "# Calling\n",
    "mooc_multi_whisper_transcribe_audio_folder(test_fn, test_fp, 0.7, test_whisper_transcriptions_info_path07, test_whisper_raw_text_path07)"
   ]
  },
  {
   "cell_type": "code",
   "execution_count": 22,
   "metadata": {
    "colab": {
     "base_uri": "https://localhost:8080/",
     "height": 17
    },
    "executionInfo": {
     "elapsed": 47,
     "status": "ok",
     "timestamp": 1759606780212,
     "user": {
      "displayName": "malta zh",
      "userId": "18304279520126745870"
     },
     "user_tz": -120
    },
    "id": "yq8OG0JvL5V-",
    "outputId": "ff06d53e-2126-4151-a508-68baf74aecc4"
   },
   "outputs": [
    {
     "data": {
      "application/javascript": [
       "\n",
       "    async function download(id, filename, size) {\n",
       "      if (!google.colab.kernel.accessAllowed) {\n",
       "        return;\n",
       "      }\n",
       "      const div = document.createElement('div');\n",
       "      const label = document.createElement('label');\n",
       "      label.textContent = `Downloading \"${filename}\": `;\n",
       "      div.appendChild(label);\n",
       "      const progress = document.createElement('progress');\n",
       "      progress.max = size;\n",
       "      div.appendChild(progress);\n",
       "      document.body.appendChild(div);\n",
       "\n",
       "      const buffers = [];\n",
       "      let downloaded = 0;\n",
       "\n",
       "      const channel = await google.colab.kernel.comms.open(id);\n",
       "      // Send a message to notify the kernel that we're ready.\n",
       "      channel.send({})\n",
       "\n",
       "      for await (const message of channel.messages) {\n",
       "        // Send a message to notify the kernel that we're ready.\n",
       "        channel.send({})\n",
       "        if (message.buffers) {\n",
       "          for (const buffer of message.buffers) {\n",
       "            buffers.push(buffer);\n",
       "            downloaded += buffer.byteLength;\n",
       "            progress.value = downloaded;\n",
       "          }\n",
       "        }\n",
       "      }\n",
       "      const blob = new Blob(buffers, {type: 'application/binary'});\n",
       "      const a = document.createElement('a');\n",
       "      a.href = window.URL.createObjectURL(blob);\n",
       "      a.download = filename;\n",
       "      div.appendChild(a);\n",
       "      a.click();\n",
       "      div.remove();\n",
       "    }\n",
       "  "
      ],
      "text/plain": [
       "<IPython.core.display.Javascript object>"
      ]
     },
     "metadata": {},
     "output_type": "display_data"
    },
    {
     "data": {
      "application/javascript": [
       "download(\"download_04077bde-09ac-46de-a323-b5451f15cb06\", \"test_whisper07_raw_info_result.json\", 16328399)"
      ],
      "text/plain": [
       "<IPython.core.display.Javascript object>"
      ]
     },
     "metadata": {},
     "output_type": "display_data"
    },
    {
     "data": {
      "application/javascript": [
       "\n",
       "    async function download(id, filename, size) {\n",
       "      if (!google.colab.kernel.accessAllowed) {\n",
       "        return;\n",
       "      }\n",
       "      const div = document.createElement('div');\n",
       "      const label = document.createElement('label');\n",
       "      label.textContent = `Downloading \"${filename}\": `;\n",
       "      div.appendChild(label);\n",
       "      const progress = document.createElement('progress');\n",
       "      progress.max = size;\n",
       "      div.appendChild(progress);\n",
       "      document.body.appendChild(div);\n",
       "\n",
       "      const buffers = [];\n",
       "      let downloaded = 0;\n",
       "\n",
       "      const channel = await google.colab.kernel.comms.open(id);\n",
       "      // Send a message to notify the kernel that we're ready.\n",
       "      channel.send({})\n",
       "\n",
       "      for await (const message of channel.messages) {\n",
       "        // Send a message to notify the kernel that we're ready.\n",
       "        channel.send({})\n",
       "        if (message.buffers) {\n",
       "          for (const buffer of message.buffers) {\n",
       "            buffers.push(buffer);\n",
       "            downloaded += buffer.byteLength;\n",
       "            progress.value = downloaded;\n",
       "          }\n",
       "        }\n",
       "      }\n",
       "      const blob = new Blob(buffers, {type: 'application/binary'});\n",
       "      const a = document.createElement('a');\n",
       "      a.href = window.URL.createObjectURL(blob);\n",
       "      a.download = filename;\n",
       "      div.appendChild(a);\n",
       "      a.click();\n",
       "      div.remove();\n",
       "    }\n",
       "  "
      ],
      "text/plain": [
       "<IPython.core.display.Javascript object>"
      ]
     },
     "metadata": {},
     "output_type": "display_data"
    },
    {
     "data": {
      "application/javascript": [
       "download(\"download_222040b9-0467-4574-9a7d-a34fc27bdf57\", \"test_whisper07_raw_text_result.json\", 10280330)"
      ],
      "text/plain": [
       "<IPython.core.display.Javascript object>"
      ]
     },
     "metadata": {},
     "output_type": "display_data"
    }
   ],
   "source": [
    "# took 2 hours 40 mins\n",
    "files.download(test_whisper_transcriptions_info_path07)\n",
    "files.download(test_whisper_raw_text_path07)"
   ]
  },
  {
   "cell_type": "markdown",
   "metadata": {
    "id": "T7vy0TBvL5V_"
   },
   "source": [
    "### Here we test Furong's data, so we need to obtain raw text and transcription information at 0.7 temperature for both development and test data. In comparison with data size of my thesis, the previous is about 1/10 the size"
   ]
  },
  {
   "cell_type": "code",
   "execution_count": 74,
   "metadata": {
    "executionInfo": {
     "elapsed": 2,
     "status": "ok",
     "timestamp": 1759606948341,
     "user": {
      "displayName": "malta zh",
      "userId": "18304279520126745870"
     },
     "user_tz": -120
    },
    "id": "603n92ulL5V_"
   },
   "outputs": [],
   "source": [
    "# we first adapt the transcribe file function\n",
    "## we need to use Furong's code and adapted the 'transcribe' into 'whisper_top_res(filepath)'\n",
    "# Function to transcribe audio files in a specific folder and save the transcriptions to JSON files\n",
    "def fr_transcribe_audio_folder(folder_path, temperature, transcriptions_info_path, raw_text_path):\n",
    "    raw_text = {}\n",
    "    transcriptions_info = {}\n",
    "    filenames = sorted(os.listdir(folder_path)) # added sorted\n",
    "\n",
    "    for filename in filenames:\n",
    "        if filename.endswith(\".mp3\"):   # Remove '.mp3' extension from the filename\n",
    "            base_filename = filename[:-4]\n",
    "            parts = base_filename.split('_') # Split filename to extract studentID, word, and trueLabel\n",
    "            studentID = parts[0]\n",
    "            word = parts[1]\n",
    "            trueLabel = 'intelligible' if parts[2] == '1' else 'unintelligible'\n",
    "\n",
    "            file_path = os.path.join(folder_path, filename)\n",
    "            result = whisper_top_res(file_path,temperature)\n",
    "            segments_info = []  # Extract required fields from all segments\n",
    "            segment_info = {\n",
    "                    'text and avg_logprob':result\n",
    "                    }\n",
    "            segments_info.append(segment_info)\n",
    "\n",
    "            transcriptions_info[base_filename] = {\n",
    "                \"studentID\": studentID,\n",
    "                \"word\": word,\n",
    "                \"trueLabel\": trueLabel,\n",
    "                \"segments\": segments_info\n",
    "            }\n",
    "\n",
    "            raw_text[base_filename] = result\n",
    "\n",
    "    # Save the detailed transcriptions info to a JSON file\n",
    "    with open(transcriptions_info_path, 'w') as json_file:\n",
    "        json.dump(transcriptions_info, json_file, indent=4)\n",
    "    print(f\"Transcription info saved to {transcriptions_info_path}\")\n",
    "\n",
    "    # Save the raw transcriptions to a JSON file\n",
    "    with open(raw_text_path, 'w') as json_file:\n",
    "        json.dump(raw_text, json_file, indent=4)\n",
    "    print(f\"Raw transcription saved to {raw_text_path}\")\n"
   ]
  },
  {
   "cell_type": "markdown",
   "metadata": {},
   "source": [
    "### The code below is to obtain predictions from Furong's test data using temperature 0.7"
   ]
  },
  {
   "cell_type": "code",
   "execution_count": 25,
   "metadata": {
    "executionInfo": {
     "elapsed": 1,
     "status": "ok",
     "timestamp": 1759606951977,
     "user": {
      "displayName": "malta zh",
      "userId": "18304279520126745870"
     },
     "user_tz": -120
    },
    "id": "cpQuKL8HL5V_"
   },
   "outputs": [],
   "source": [
    "# defining the base dir for dev and test\n",
    "furong_test_base_dir =  \"/content/gdrive/MyDrive/Colab Notebooks/file/furong_test_all\"\n"
   ]
  },
  {
   "cell_type": "code",
   "execution_count": 26,
   "metadata": {
    "executionInfo": {
     "elapsed": 2,
     "status": "ok",
     "timestamp": 1759606956064,
     "user": {
      "displayName": "malta zh",
      "userId": "18304279520126745870"
     },
     "user_tz": -120
    },
    "id": "GCI3ZMTpL5V_"
   },
   "outputs": [],
   "source": [
    "# preparing the paths for test at temp 07\n",
    "furong_whisper_test_info_path07 = \"content/gdrive/MyDrive/Colab Notebooks/file/tst_json_files/transcription_output/whisper_raw_transcription_info/furong_whisper07_test_raw_info_result.json\"\n",
    "furong_whisper_test_raw_text_path07 =  \"content/gdrive/MyDrive/Colab Notebooks/file/tst_json_files/transcription_output/whisper_raw_text/furong_whisper07_test_raw_text_result.json\"\n"
   ]
  },
  {
   "cell_type": "code",
   "execution_count": 27,
   "metadata": {
    "colab": {
     "base_uri": "https://localhost:8080/"
    },
    "executionInfo": {
     "elapsed": 2890958,
     "status": "ok",
     "timestamp": 1759609849222,
     "user": {
      "displayName": "malta zh",
      "userId": "18304279520126745870"
     },
     "user_tz": -120
    },
    "id": "35ObVUpSL5V_",
    "outputId": "2171532e-564f-4b6b-8aea-368d1b172bb4"
   },
   "outputs": [
    {
     "name": "stdout",
     "output_type": "stream",
     "text": [
      "Transcription info saved to content/gdrive/MyDrive/Colab Notebooks/file/tst_json_files/transcription_output/whisper_raw_transcription_info/furong_whisper07_test_raw_info_result.json\n",
      "Raw transcription saved to content/gdrive/MyDrive/Colab Notebooks/file/tst_json_files/transcription_output/whisper_raw_text/furong_whisper07_test_raw_text_result.json\n"
     ]
    }
   ],
   "source": [
    "#calling test paths for raw and info\n",
    "os.makedirs(os.path.dirname(furong_whisper_test_info_path07), exist_ok=True)\n",
    "os.makedirs(os.path.dirname(furong_whisper_test_raw_text_path07), exist_ok=True)\n",
    "fr_transcribe_audio_folder(furong_test_base_dir, 0.7, furong_whisper_test_info_path07, furong_whisper_test_raw_text_path07)"
   ]
  },
  {
   "cell_type": "code",
   "execution_count": 28,
   "metadata": {
    "colab": {
     "base_uri": "https://localhost:8080/",
     "height": 17
    },
    "executionInfo": {
     "elapsed": 52,
     "status": "ok",
     "timestamp": 1759610013450,
     "user": {
      "displayName": "malta zh",
      "userId": "18304279520126745870"
     },
     "user_tz": -120
    },
    "id": "nNEltD4UL5WA",
    "outputId": "6c00e2be-eed5-4a7d-fd2c-5407e33653cc"
   },
   "outputs": [
    {
     "data": {
      "application/javascript": [
       "\n",
       "    async function download(id, filename, size) {\n",
       "      if (!google.colab.kernel.accessAllowed) {\n",
       "        return;\n",
       "      }\n",
       "      const div = document.createElement('div');\n",
       "      const label = document.createElement('label');\n",
       "      label.textContent = `Downloading \"${filename}\": `;\n",
       "      div.appendChild(label);\n",
       "      const progress = document.createElement('progress');\n",
       "      progress.max = size;\n",
       "      div.appendChild(progress);\n",
       "      document.body.appendChild(div);\n",
       "\n",
       "      const buffers = [];\n",
       "      let downloaded = 0;\n",
       "\n",
       "      const channel = await google.colab.kernel.comms.open(id);\n",
       "      // Send a message to notify the kernel that we're ready.\n",
       "      channel.send({})\n",
       "\n",
       "      for await (const message of channel.messages) {\n",
       "        // Send a message to notify the kernel that we're ready.\n",
       "        channel.send({})\n",
       "        if (message.buffers) {\n",
       "          for (const buffer of message.buffers) {\n",
       "            buffers.push(buffer);\n",
       "            downloaded += buffer.byteLength;\n",
       "            progress.value = downloaded;\n",
       "          }\n",
       "        }\n",
       "      }\n",
       "      const blob = new Blob(buffers, {type: 'application/binary'});\n",
       "      const a = document.createElement('a');\n",
       "      a.href = window.URL.createObjectURL(blob);\n",
       "      a.download = filename;\n",
       "      div.appendChild(a);\n",
       "      a.click();\n",
       "      div.remove();\n",
       "    }\n",
       "  "
      ],
      "text/plain": [
       "<IPython.core.display.Javascript object>"
      ]
     },
     "metadata": {},
     "output_type": "display_data"
    },
    {
     "data": {
      "application/javascript": [
       "download(\"download_0b8cba94-bba8-452f-8466-ad64e83efd50\", \"furong_whisper07_test_raw_info_result.json\", 6679836)"
      ],
      "text/plain": [
       "<IPython.core.display.Javascript object>"
      ]
     },
     "metadata": {},
     "output_type": "display_data"
    },
    {
     "data": {
      "application/javascript": [
       "\n",
       "    async function download(id, filename, size) {\n",
       "      if (!google.colab.kernel.accessAllowed) {\n",
       "        return;\n",
       "      }\n",
       "      const div = document.createElement('div');\n",
       "      const label = document.createElement('label');\n",
       "      label.textContent = `Downloading \"${filename}\": `;\n",
       "      div.appendChild(label);\n",
       "      const progress = document.createElement('progress');\n",
       "      progress.max = size;\n",
       "      div.appendChild(progress);\n",
       "      document.body.appendChild(div);\n",
       "\n",
       "      const buffers = [];\n",
       "      let downloaded = 0;\n",
       "\n",
       "      const channel = await google.colab.kernel.comms.open(id);\n",
       "      // Send a message to notify the kernel that we're ready.\n",
       "      channel.send({})\n",
       "\n",
       "      for await (const message of channel.messages) {\n",
       "        // Send a message to notify the kernel that we're ready.\n",
       "        channel.send({})\n",
       "        if (message.buffers) {\n",
       "          for (const buffer of message.buffers) {\n",
       "            buffers.push(buffer);\n",
       "            downloaded += buffer.byteLength;\n",
       "            progress.value = downloaded;\n",
       "          }\n",
       "        }\n",
       "      }\n",
       "      const blob = new Blob(buffers, {type: 'application/binary'});\n",
       "      const a = document.createElement('a');\n",
       "      a.href = window.URL.createObjectURL(blob);\n",
       "      a.download = filename;\n",
       "      div.appendChild(a);\n",
       "      a.click();\n",
       "      div.remove();\n",
       "    }\n",
       "  "
      ],
      "text/plain": [
       "<IPython.core.display.Javascript object>"
      ]
     },
     "metadata": {},
     "output_type": "display_data"
    },
    {
     "data": {
      "application/javascript": [
       "download(\"download_f0316908-e1b3-4b96-aae3-41f51c471f26\", \"furong_whisper07_test_raw_text_result.json\", 4205952)"
      ],
      "text/plain": [
       "<IPython.core.display.Javascript object>"
      ]
     },
     "metadata": {},
     "output_type": "display_data"
    }
   ],
   "source": [
    "files.download(furong_whisper_test_info_path07)\n",
    "files.download(furong_whisper_test_raw_text_path07)"
   ]
  },
  {
   "cell_type": "markdown",
   "metadata": {
    "id": "BZwsvHs-v7Mt"
   },
   "source": [
    "## preprocessing the test files\n",
    "### Here the code is implemented on notebook"
   ]
  },
  {
   "cell_type": "code",
   "execution_count": 75,
   "metadata": {
    "id": "_WsQ7-RXL5WA"
   },
   "outputs": [],
   "source": [
    "# naming the json files\n",
    "test_whisper07_raw_info =  \"./tst_json_files/transcription_output/whisper_raw_transcription_info/test_whisper07_raw_info_result.json\"\n",
    "test_whisper07_output_json_file = \"./tst_json_files/transcription_output/whisper_processed_output/test_whisper07_output.json\""
   ]
  },
  {
   "cell_type": "code",
   "execution_count": 76,
   "metadata": {
    "id": "3P1bIJsvL5WA",
    "outputId": "ac8a2074-79aa-4e9b-dce8-32b44544f437"
   },
   "outputs": [
    {
     "name": "stdout",
     "output_type": "stream",
     "text": [
      "No transcriptions for audio file: series06-s00034_pore\n",
      "No transcriptions for audio file: series05-s000051_pot\n",
      "Preprocessed results saved to ./tst_json_files/transcription_output/whisper_processed_output/test_whisper07_output.json\n"
     ]
    }
   ],
   "source": [
    "test_whisper07_result = model_preprocess_and_calculate_multi(test_whisper07_raw_info)\n",
    "with open(test_whisper07_output_json_file, 'w') as json_file:\n",
    "    json.dump(test_whisper07_result, json_file, indent=4)\n",
    "print(f\"Preprocessed results saved to {test_whisper07_output_json_file}\")"
   ]
  },
  {
   "cell_type": "markdown",
   "metadata": {
    "id": "_nV_bkmpL5WA"
   },
   "source": [
    "### Here we are using Zou's test datasets. We thus also need to preprocess the test files"
   ]
  },
  {
   "cell_type": "code",
   "execution_count": 77,
   "metadata": {
    "id": "gJQhuUhqL5WB"
   },
   "outputs": [],
   "source": [
    "# naming the json files first for test\n",
    "furong_whisper07_test_raw_info =  \"./tst_json_files/transcription_output/whisper_raw_transcription_info/furong_whisper07_test_raw_info_result.json\"\n",
    "furong_whisper07_test_output_json = \"./tst_json_files/transcription_output/whisper_processed_output/furong_whisper07_test_output.json\"\n"
   ]
  },
  {
   "cell_type": "code",
   "execution_count": 78,
   "metadata": {
    "id": "ryFKIpuBL5WB",
    "outputId": "02aeca12-ec9f-49a3-e6bb-d6f220ff254f"
   },
   "outputs": [
    {
     "name": "stdout",
     "output_type": "stream",
     "text": [
      "No transcriptions for audio file: s18_boat\n",
      "No transcriptions for audio file: s18_tide\n",
      "Preprocessed results saved to ./tst_json_files/transcription_output/whisper_processed_output/furong_whisper07_test_output.json\n"
     ]
    }
   ],
   "source": [
    "# preprocessing test dataset\n",
    "furong_test_whisper07_result = model_preprocess_and_calculate_multi(furong_whisper07_test_raw_info)\n",
    "with open(furong_whisper07_test_output_json, 'w') as json_file:\n",
    "    json.dump(furong_test_whisper07_result, json_file, indent=4)\n",
    "print(f\"Preprocessed results saved to {furong_whisper07_test_output_json}\")"
   ]
  }
 ],
 "metadata": {
  "accelerator": "GPU",
  "colab": {
   "gpuType": "L4",
   "provenance": []
  },
  "kernelspec": {
   "display_name": "Python 3 (ipykernel)",
   "language": "python",
   "name": "python3"
  },
  "language_info": {
   "codemirror_mode": {
    "name": "ipython",
    "version": 3
   },
   "file_extension": ".py",
   "mimetype": "text/x-python",
   "name": "python",
   "nbconvert_exporter": "python",
   "pygments_lexer": "ipython3",
   "version": "3.9.22"
  }
 },
 "nbformat": 4,
 "nbformat_minor": 4
}
