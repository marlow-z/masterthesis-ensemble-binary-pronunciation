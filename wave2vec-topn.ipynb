{
 "cells": [
  {
   "cell_type": "code",
   "execution_count": 141,
   "id": "36f89d5f-8660-44be-83e2-10c22d0ed57c",
   "metadata": {},
   "outputs": [],
   "source": [
    "import math\n",
    "import os\n",
    "import json\n",
    "import string"
   ]
  },
  {
   "cell_type": "code",
   "execution_count": 139,
   "id": "456dd0c0-66d6-422c-93c0-5fd08e8084b2",
   "metadata": {},
   "outputs": [],
   "source": [
    "from transformers import Wav2Vec2Tokenizer, Wav2Vec2ForCTC\n",
    "from datasets import load_dataset\n",
    "import torch"
   ]
  },
  {
   "cell_type": "code",
   "execution_count": 140,
   "id": "1d9aeea9-5b6f-4bb0-a8db-c58fd018c1fb",
   "metadata": {},
   "outputs": [],
   "source": [
    "import soundfile as sf\n",
    "import librosa"
   ]
  },
  {
   "cell_type": "code",
   "execution_count": 142,
   "id": "ecb06808-d53e-4d43-b290-8920e5379183",
   "metadata": {},
   "outputs": [],
   "source": [
    "from IPython.display import Audio\n",
    "from scipy.io import wavfile\n",
    "import numpy as np"
   ]
  },
  {
   "cell_type": "code",
   "execution_count": 144,
   "id": "ac80cfcd-21ea-4c99-ae7f-8d03c8ec1517",
   "metadata": {},
   "outputs": [],
   "source": [
    "import logging #to disable warnings\n",
    "\n",
    "logger = logging.getLogger(\"pyctcdecode.alphabet\")\n",
    "logger.setLevel(logging.CRITICAL) "
   ]
  },
  {
   "cell_type": "code",
   "execution_count": 143,
   "id": "c40276bb-068a-4e48-8b99-3c9e8f3128a9",
   "metadata": {},
   "outputs": [],
   "source": [
    "from num2words import num2words  # Import num2words for number to word conversion\n",
    "from nltk.corpus import cmudict\n",
    "cmu_dict = cmudict.dict() # Initialize CMU Pronouncing Dictionary"
   ]
  },
  {
   "cell_type": "code",
   "execution_count": 145,
   "id": "4b770dba-4669-4608-9627-9c6862973ebd",
   "metadata": {},
   "outputs": [],
   "source": [
    "from transformers import Wav2Vec2ProcessorWithLM"
   ]
  },
  {
   "cell_type": "code",
   "execution_count": 146,
   "id": "7838f045-14b2-49c6-8272-480ad2eaa765",
   "metadata": {},
   "outputs": [
    {
     "data": {
      "application/vnd.jupyter.widget-view+json": {
       "model_id": "10e8d32d62a34af7b7362d7810922f85",
       "version_major": 2,
       "version_minor": 0
      },
      "text/plain": [
       "Fetching 4 files:   0%|          | 0/4 [00:00<?, ?it/s]"
      ]
     },
     "metadata": {},
     "output_type": "display_data"
    }
   ],
   "source": [
    "processor = Wav2Vec2ProcessorWithLM.from_pretrained(\"patrickvonplaten/wav2vec2-base-100h-with-lm\")"
   ]
  },
  {
   "cell_type": "code",
   "execution_count": 147,
   "id": "dec5a0aa-99c9-450f-a566-2febc93f1757",
   "metadata": {},
   "outputs": [
    {
     "name": "stderr",
     "output_type": "stream",
     "text": [
      "Some weights of the model checkpoint at facebook/wav2vec2-base-100h were not used when initializing Wav2Vec2ForCTC: ['wav2vec2.mask_time_emb_vector']\n",
      "- This IS expected if you are initializing Wav2Vec2ForCTC from the checkpoint of a model trained on another task or with another architecture (e.g. initializing a BertForSequenceClassification model from a BertForPreTraining model).\n",
      "- This IS NOT expected if you are initializing Wav2Vec2ForCTC from the checkpoint of a model that you expect to be exactly identical (initializing a BertForSequenceClassification model from a BertForSequenceClassification model).\n",
      "Some weights of Wav2Vec2ForCTC were not initialized from the model checkpoint at facebook/wav2vec2-base-100h and are newly initialized: ['wav2vec2.masked_spec_embed']\n",
      "You should probably TRAIN this model on a down-stream task to be able to use it for predictions and inference.\n"
     ]
    }
   ],
   "source": [
    "model = Wav2Vec2ForCTC.from_pretrained(\"facebook/wav2vec2-base-100h\")"
   ]
  },
  {
   "cell_type": "code",
   "execution_count": 148,
   "id": "ca973f6f-ec08-490a-96b1-6facad44da46",
   "metadata": {},
   "outputs": [],
   "source": [
    "sample_file_name = 'previous_data_audio/furong_dev_all/s04_bard_0.mp3'"
   ]
  },
  {
   "cell_type": "code",
   "execution_count": 149,
   "id": "8e027678-e385-4022-b369-2e7d3ad4dd5d",
   "metadata": {},
   "outputs": [
    {
     "data": {
      "text/html": [
       "\n",
       "                <audio  controls=\"controls\" >\n",
       "                    <source src=\"data:audio/mpeg;base64,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\" type=\"audio/mpeg\" />\n",
       "                    Your browser does not support the audio element.\n",
       "                </audio>\n",
       "              "
      ],
      "text/plain": [
       "<IPython.lib.display.Audio object>"
      ]
     },
     "execution_count": 149,
     "metadata": {},
     "output_type": "execute_result"
    }
   ],
   "source": [
    "Audio(sample_file_name)"
   ]
  },
  {
   "cell_type": "code",
   "execution_count": 150,
   "id": "3238336c-9752-4dee-9a12-cc37b5395a12",
   "metadata": {},
   "outputs": [],
   "source": [
    "# top few result using wav2vec and turning it into a function\n",
    "def wav2vec_top_res(audio_file): # giving top ten prediction results, to be deleted later\n",
    "    audio, sr = librosa.load(audio_file, sr=16000)\n",
    "    inputs = processor(audio, sampling_rate=16000, return_tensors=\"pt\", return_attention_mask=True, padding=True)\n",
    "    input_values = inputs.input_values  # [batch_size, sequence_length]\n",
    "    attention_mask = inputs.attention_mask\n",
    "\n",
    "    with torch.no_grad():\n",
    "        logits = model(input_values).logits  # [batch_size, seq_len, vocab_size]\n",
    "    from pyctcdecode import build_ctcdecoder\n",
    "    vocab_list = list(processor.tokenizer.get_vocab().keys())\n",
    "\n",
    "    decoder = build_ctcdecoder(vocab_list, None)\n",
    "    beam_results = decoder.decode_beams(logits[0].cpu().numpy(), beam_width=50)\n",
    "\n",
    "    ### KEEP TOP N BEAMS (10 results)\n",
    "    beams_to_keep = beam_results[:min(10, len(beam_results))]\n",
    "    # CONVERT logit scores to probabilities\n",
    "    probs = [math.exp(beam[3]) for beam in beams_to_keep]  # beam[3] = AM log-prob\n",
    "    total_prob = sum(probs)\n",
    "    ### Normalize so they sum to 1\n",
    "    normalized_probs = [p / total_prob for p in probs]\n",
    "    \n",
    "    res_list= []\n",
    "    #for beam in beam_results[:10]:\n",
    "    for beam, prob in zip(beams_to_keep, normalized_probs):\n",
    "        text = beam[0]\n",
    "        score = beam[3]\n",
    "        num_tokens = len(text.replace(\" \", \"\"))\n",
    "        avg_logprob = score / max(1, num_tokens)\n",
    "        confidence_score = round(math.exp(avg_logprob), 3)\n",
    "        res_list.append({'text':text, 'avg_logprob':float(avg_logprob)}) # Texts are different paths through the same decoding lattice.\n",
    "    ## added \n",
    "    res_list = sorted(res_list, key=lambda x: x['avg_logprob'], reverse=True)\n",
    "    return res_list\n",
    "    "
   ]
  },
  {
   "cell_type": "code",
   "execution_count": 151,
   "id": "3ed2749b-1385-4804-9dae-b3077f1e2775",
   "metadata": {},
   "outputs": [
    {
     "data": {
      "text/plain": [
       "[{'text': 'BAD', 'avg_logprob': -0.3500041755706074},\n",
       " {'text': 'BADE', 'avg_logprob': -0.7687228634394133},\n",
       " {'text': 'BAUD', 'avg_logprob': -0.8009523313731263},\n",
       " {'text': 'BARD', 'avg_logprob': -0.8601239986529743},\n",
       " {'text': 'BATD', 'avg_logprob': -0.9871410878691836},\n",
       " {'text': 'BADD', 'avg_logprob': -1.0157532510521434},\n",
       " {'text': 'BAHD', 'avg_logprob': -1.031194387455914},\n",
       " {'text': 'BOD', 'avg_logprob': -1.0692155284770475},\n",
       " {'text': 'BAWD', 'avg_logprob': -1.0902448205502724},\n",
       " {'text': 'BA', 'avg_logprob': -2.193876411815085}]"
      ]
     },
     "execution_count": 151,
     "metadata": {},
     "output_type": "execute_result"
    }
   ],
   "source": [
    "wav2vec_top_res(sample_file_name) # printing an example of top10 unique results"
   ]
  },
  {
   "cell_type": "code",
   "execution_count": 152,
   "id": "ede7beca-d24f-458d-8949-b281a1125bce",
   "metadata": {},
   "outputs": [],
   "source": [
    "# Using the base directory to generate a list of filenames, and full filepaths\n",
    "def file_names_paths(mooc_base_dir):\n",
    "    mooc_folders = os.listdir(mooc_base_dir) # display all filenames\n",
    "    mooc_subfolders=[] # the paths of base dir plus word name\n",
    "    for item in mooc_folders:\n",
    "        audio = os.path.join(mooc_base_dir,item)\n",
    "        mooc_subfolders.append(audio)\n",
    "    mooc_fnl_subfolders = sorted(mooc_subfolders)[1:] # starting from 1, and sorted, so DS. not displayed\n",
    "    mooc_filenames = []\n",
    "    mooc_filepaths = []\n",
    "    flatten_mooc_filenames = []\n",
    "    for subfolder in mooc_fnl_subfolders:\n",
    "        mooc_filepath= sorted(os.listdir(subfolder))\n",
    "        for item in mooc_filepath:\n",
    "            full_path = os.path.join(subfolder, item)\n",
    "            mooc_filepaths.append(full_path)\n",
    "            flatten_mooc_filenames.append(item)\n",
    "    return flatten_mooc_filenames, mooc_filepaths  \n",
    "\n",
    "# Count the intelligibel and unintelligible distribution\n",
    "\n",
    "def count_split(mooc_filenames):\n",
    "    intelligible_count = 0\n",
    "    unintelligible_count = 0   \n",
    "    for x in mooc_filenames:\n",
    "        if x.endswith('1.mp3'):\n",
    "            intelligible_count += 1\n",
    "        else:\n",
    "            unintelligible_count += 1\n",
    "    print(f'There are {intelligible_count} \"intelligible\" labels,')\n",
    "    print(f'and {unintelligible_count } \"unintelligible\" labels')\n",
    "    return \n",
    "\n",
    "# Splitting the filenames and filepaths into equal distributions of test and dev \n",
    "def split_only(a, b):\n",
    "    dev_filenames = []\n",
    "    test_filenames = []\n",
    "    dev_filepaths = []\n",
    "    test_filepaths = []\n",
    "    for (i_filename, filename), (i_filepath, filepath) in zip(enumerate(a),enumerate(b)):       \n",
    "        if i_filename%2 == 0:\n",
    "            dev_filenames.append(filename)\n",
    "        elif i_filename%2 == 1:\n",
    "            test_filenames.append(filename)    \n",
    "    #for i, filepath in enumerate(b):  \n",
    "        if i_filepath%2 == 0:\n",
    "            dev_filepaths.append(filepath)\n",
    "        elif i_filepath%2 == 1:\n",
    "            test_filepaths.append(filepath)\n",
    "    return dev_filenames, test_filenames, dev_filepaths, test_filepaths"
   ]
  },
  {
   "cell_type": "code",
   "execution_count": 153,
   "id": "ee1d591b-6bd0-4e27-9ff5-aee4ced93ac7",
   "metadata": {},
   "outputs": [],
   "source": [
    "# CALLING... / TO BE DELETED LATER (REDUNDANCY)\n",
    "dummooc_base_dir = \"./mooc_audio\"\n",
    "flatten_mooc_filenames, mooc_filepaths = file_names_paths(dummooc_base_dir)\n",
    "dev_fn, test_fn, dev_fp, test_fp = split_only(flatten_mooc_filenames, mooc_filepaths)"
   ]
  },
  {
   "cell_type": "code",
   "execution_count": 154,
   "id": "243c2783-a386-4051-934f-57f277b13741",
   "metadata": {},
   "outputs": [
    {
     "name": "stdout",
     "output_type": "stream",
     "text": [
      "['series01-s00000-Paul-1.mp3', 'series01-s000011-Paul-0.mp3', 'series01-s000012-Paul-1.mp3', 'series01-s000013a-Paul-0.mp3', 'series01-s000013b-Paul-0.mp3']\n"
     ]
    }
   ],
   "source": [
    "#testing a sample\n",
    "print(flatten_mooc_filenames[0:5])"
   ]
  },
  {
   "cell_type": "markdown",
   "id": "cb22460a-1f1c-4c53-b69f-cd0b37f8c900",
   "metadata": {},
   "source": [
    "## Here we will generate two json files, for each audio file in each json, there are top 10 hypotheses with the avg log probs. "
   ]
  },
  {
   "cell_type": "code",
   "execution_count": 155,
   "id": "aeabade0-f3a7-48e6-9b84-9b7dce7ce2b1",
   "metadata": {},
   "outputs": [],
   "source": [
    "# Function to transcribe audio files in a specific folder and save the transcriptions to JSON files\n",
    "# it takes the filenames and filepaths of each file and output a json file of raw text with avg log prob and info text with av log prob\n",
    "def mooc_multi_w2v_transcribe_audio_folder(filenames, filepaths, transcriptions_info_path, raw_text_path):    \n",
    "    raw_text = {}\n",
    "    transcriptions_info = {}\n",
    "\n",
    "    for filename, filepath in zip(filenames, filepaths):\n",
    "        if filename.endswith(\".mp3\"):   # Remove '.mp3' extension from the filename        \n",
    "            base_filename = filename[:-4]                        \n",
    "            parts = base_filename.split('-') # Split filename to extract studentID, word, and trueLabel\n",
    "            studentID = parts[0] + '-' + parts[1]\n",
    "            word = parts[2]\n",
    "            trueLabel = 'intelligible' if parts[3] == '1' else 'unintelligible'\n",
    "\n",
    "            result = wav2vec_top_res(filepath)  \n",
    "            segments_info = []  # Extract required fields from all segments\n",
    "            segment_info = {\n",
    "                    'text and avg_logprob':result                   \n",
    "                    }\n",
    "            segments_info.append(segment_info)\n",
    "\n",
    "            transcriptions_info[base_filename] = {\n",
    "                \"studentID\": studentID,\n",
    "                \"word\": word,\n",
    "                \"trueLabel\": trueLabel,\n",
    "                \"segments\": segments_info \n",
    "            }\n",
    "\n",
    "            raw_text[base_filename] = result\n",
    "    #return transcriptions_info amd raw_text\n",
    "    # Save the detailed transcriptions info to a JSON file\n",
    "    with open(transcriptions_info_path, 'w') as json_file:\n",
    "        json.dump(transcriptions_info, json_file, indent=4)\n",
    "    print(f\"Transcription info saved to {transcriptions_info_path}\")\n",
    "\n",
    "    # Save the raw transcriptions to a JSON file\n",
    "    with open(raw_text_path, 'w') as json_file:\n",
    "        json.dump(raw_text, json_file, indent=4)\n",
    "    print(f\"Raw transcription saved to {raw_text_path}\")    "
   ]
  },
  {
   "cell_type": "code",
   "execution_count": 156,
   "id": "dd194254-897b-41a5-aa41-ef4e09d1a3b0",
   "metadata": {},
   "outputs": [],
   "source": [
    "multi_w2v_transcription_info_path =  \"./tst_json_files/transcription_output/w2v_raw_transcription_info/mooc_multi_raw_info_result.json\"\n",
    "multi_w2v_raw_text_path =  \"./tst_json_files/transcription_output/w2v_raw_text/mooc_multi_raw_text_result.json\"\n"
   ]
  },
  {
   "cell_type": "code",
   "execution_count": 157,
   "id": "2ae96967-ec48-4684-ae51-7632b04c19a3",
   "metadata": {},
   "outputs": [],
   "source": [
    "# naming the filenames and full paths of files for development\n",
    "filenames_mooc = dev_fn\n",
    "filepaths_mooc = dev_fp"
   ]
  },
  {
   "cell_type": "code",
   "execution_count": 158,
   "id": "15105ee6-7dc2-4359-b278-718e028f7682",
   "metadata": {},
   "outputs": [
    {
     "name": "stdout",
     "output_type": "stream",
     "text": [
      "Transcription info saved to ./tst_json_files/transcription_output/w2v_raw_transcription_info/mooc_multi_raw_info_result.json\n",
      "Raw transcription saved to ./tst_json_files/transcription_output/w2v_raw_text/mooc_multi_raw_text_result.json\n"
     ]
    }
   ],
   "source": [
    "## CALLING to output raw information containing studentID, word, true label and segments (text and avg log prob), and raw text with avg log prb \n",
    "mooc_multi_w2v_transcribe_audio_folder(filenames_mooc, filepaths_mooc, multi_w2v_transcription_info_path, multi_w2v_raw_text_path)"
   ]
  },
  {
   "cell_type": "code",
   "execution_count": 159,
   "id": "79d8450f-1390-4090-91a1-67bae7b9dd18",
   "metadata": {},
   "outputs": [
    {
     "name": "stdout",
     "output_type": "stream",
     "text": [
      "series01-s00000-Paul-1\n",
      "{'studentID': 'series01-s00000', 'word': 'Paul', 'trueLabel': 'intelligible', 'segments': [{'text and avg_logprob': [{'text': 'CALLIN', 'avg_logprob': -0.2531940364808277}, {'text': 'CALLIM', 'avg_logprob': -0.36811439275183533}, {'text': 'CALLING', 'avg_logprob': -0.4035371777119488}, {'text': 'CALLIMG', 'avg_logprob': -0.501103558324397}, {'text': 'COLLIN', 'avg_logprob': -0.5485117393676265}, {'text': 'CALL IN', 'avg_logprob': -0.6171833224746351}, {'text': 'COLLIM', 'avg_logprob': -0.6703274062938022}, {'text': 'CALLEN', 'avg_logprob': -0.717398567663285}, {'text': 'CALLON', 'avg_logprob': -0.7192308144436805}, {'text': 'CALLI', 'avg_logprob': -0.8514732434352075}]}]}\n"
     ]
    }
   ],
   "source": [
    "## inspecting\n",
    "loaded_f = load_json(multi_w2v_transcription_info_path)\n",
    "for k, v in loaded_f.items():\n",
    "    print(k)\n",
    "    print(v)\n",
    "    break"
   ]
  },
  {
   "cell_type": "code",
   "execution_count": 160,
   "id": "abe05b71-1f9c-48ee-ae05-fe24b13cf770",
   "metadata": {},
   "outputs": [
    {
     "name": "stdout",
     "output_type": "stream",
     "text": [
      "170\n",
      "7\n"
     ]
    }
   ],
   "source": [
    "# using the json path to obtain student and series numbers\n",
    "def get_series_student_numbers(info_path):\n",
    "    loaded_f = load_json(info_path)\n",
    "    student_numbers=[]\n",
    "    series_numbers=[]\n",
    "    for k, v in loaded_f.items():\n",
    "        parts= v['studentID'].split('-') # get series and student numbers\n",
    "        student_numbers.append(parts[-1])\n",
    "        series_numbers.append(parts[0])\n",
    "    print(len(set(student_numbers))) # set to filter repeated student and series numbers\n",
    "    print(len(set(series_numbers)))\n",
    "## calling\n",
    "get_series_student_numbers(multi_w2v_transcription_info_path)"
   ]
  },
  {
   "cell_type": "code",
   "execution_count": 161,
   "id": "34292292-db24-455e-91e3-ab73feb9f0b0",
   "metadata": {},
   "outputs": [],
   "source": [
    "# Load the JSON data from a file\n",
    "def load_json(json_file_path):\n",
    "    with open(json_file_path, 'r') as file:\n",
    "        data = json.load(file)\n",
    "    return data\n",
    "\n",
    "# Preprocesses the text by removing leading spaces and punctuations, and converting to lowercase.\n",
    "def preprocess_text(text):\n",
    "    text = text.strip()\n",
    "    text = text.translate(str.maketrans('', '', string.punctuation))\n",
    "    text = text.lower()\n",
    "    return text\n",
    "\n",
    "# Convert numbers to words if necessary\n",
    "def convert_number_to_word(text):\n",
    "    words = text.split()\n",
    "    converted_words = []\n",
    "    for word in words:\n",
    "        if word.isdigit():\n",
    "            converted_word = num2words(int(word))  # Convert number to word\n",
    "            converted_words.append(converted_word)\n",
    "        else:\n",
    "            converted_words.append(word)\n",
    "    return ' '.join(converted_words)\n",
    "\n",
    "# Function to retrieve phonetic representations from CMU Pronouncing Dictionary.\n",
    "def get_phonetic_representation(word):\n",
    "    phonetic_representations = cmu_dict.get(word.lower())\n",
    "    if phonetic_representations:\n",
    "        return ' '.join(phonetic_representations[0])  # Join the phonetic representations with space\n",
    "    else:\n",
    "        return 'N/A'  # Return 'N/A' if word not found in dictionary\n"
   ]
  },
  {
   "cell_type": "markdown",
   "id": "97477a2d-f0e7-401e-af91-e7b76151796b",
   "metadata": {},
   "source": [
    "## The preprocess generate the information containing hypotheses, avg log probs and CMUDict representations of each hypothesis. Later in the ensemble_result notebook, we will see the performance at each index of hypotheses to determine what the n should be for top n results"
   ]
  },
  {
   "cell_type": "code",
   "execution_count": 162,
   "id": "db3fb2ab-a188-42fb-92fb-dc546fe693cd",
   "metadata": {},
   "outputs": [],
   "source": [
    "# Preprocesses the segment texts and calculates the confidence score for each transcription -- modified version\n",
    "def model_preprocess_and_calculate_multi(json_file_path):\n",
    "    data = load_json(json_file_path)\n",
    "    preprocessed_results = {}\n",
    "\n",
    "    for key, value in data.items():\n",
    "        studentID = value[\"studentID\"]\n",
    "        word = value[\"word\"]\n",
    "        trueLabel = value[\"trueLabel\"]\n",
    "        segments = value[\"segments\"]\n",
    "        true_transcription_stripped = convert_number_to_word(word)  # Convert true transcription to words if necessary                   \n",
    "        true_phonetic_rep = get_phonetic_representation(true_transcription_stripped) # Get phonetic representations for both true and whisper's transcriptions\n",
    "        # Preprocess text        \n",
    "        text_avglog_list = segments[0][\"text and avg_logprob\"] \n",
    "        lst_model_transcription = []\n",
    "        lst_true_phonetic_rep = []\n",
    "        lst_model_phonetic_rep = []\n",
    "        lst_model_judge_phonetic = []        \n",
    "        lst_confidence_scores = []\n",
    "        for text in text_avglog_list: ## its a list of dictionary containing text and average log prob\n",
    "            preprocessed_texts = []\n",
    "            ## setting confidence score to 0 if len(SGM) >1\n",
    "            ## SETTING CONFIDENCE SCORE TO 0 if there's no word\n",
    "            if len(text['text']) == 0:\n",
    "                confidence_score = 0               \n",
    "                preprocessed_texts.append('')\n",
    "                print(f\"No transcriptions for audio file: {studentID}_{word}\") \n",
    "            else:\n",
    "                avg_logprob = text[\"avg_logprob\"]\n",
    "                confidence_score = round(math.exp(avg_logprob), 3)\n",
    "                preprocessed_text = preprocess_text(text['text'])\n",
    "                preprocessed_texts.append(preprocessed_text) \n",
    "            \n",
    "            lst_confidence_scores.append(confidence_score) # collecting confidence scores\n",
    "            # Join and process text for all cases\n",
    "            model_transcription = ' '.join(preprocessed_texts).strip()\n",
    "            model_transcription = convert_number_to_word(model_transcription)  # Convert numbers to words if necessary \n",
    "            lst_model_transcription.append(model_transcription)      # DECIDING NOT USE WHISPER_JUDGE;             \n",
    "                      \n",
    "\n",
    "            lst_true_phonetic_rep.append(true_phonetic_rep)\n",
    "            model_phonetic_rep = get_phonetic_representation(model_transcription)\n",
    "            lst_model_phonetic_rep.append(model_phonetic_rep)       \n",
    "            lst_topn=[]  ### NEW CONVERSION OF DATA FORMAT\n",
    "            for a, b, d in zip(lst_model_transcription,lst_confidence_scores,lst_model_phonetic_rep):\n",
    "                dict_new={'model_transcription':a,'confidence score':b,'model_phonetic_rep':d}\n",
    "                lst_topn.append(dict_new)\n",
    "            \n",
    "        preprocessed_results[key] = {\n",
    "            \"studentID\": studentID,\n",
    "            \"true_transcription\": word,\n",
    "            \"trueLabel\": trueLabel,\n",
    "            \"true_phonetic_rep\":true_phonetic_rep,\n",
    "            \"top res\": lst_topn\n",
    "            }\n",
    "   \n",
    "    return preprocessed_results"
   ]
  },
  {
   "cell_type": "code",
   "execution_count": 163,
   "id": "fcef665d-e8e8-426e-9f16-2cc9b7abb93f",
   "metadata": {},
   "outputs": [],
   "source": [
    "multi_w2v_transcription_info_path =  \"./tst_json_files/transcription_output/w2v_raw_transcription_info/mooc_multi_raw_info_result.json\"\n"
   ]
  },
  {
   "cell_type": "code",
   "execution_count": 164,
   "id": "4a5d04c8-3f0c-4014-a34d-3ea3bfe0f5b0",
   "metadata": {},
   "outputs": [
    {
     "name": "stdout",
     "output_type": "stream",
     "text": [
      "No transcriptions for audio file: series01-s000026_Paul\n",
      "No transcriptions for audio file: series02-s00024_Paul\n",
      "No transcriptions for audio file: series03-s000012_Paul\n",
      "No transcriptions for audio file: series02-s00021_bay\n",
      "No transcriptions for audio file: series03-s0000143_bay\n",
      "No transcriptions for audio file: series03-s0000194_bay\n",
      "No transcriptions for audio file: series03-s000057_bay\n",
      "No transcriptions for audio file: series04-s00034_bay\n",
      "No transcriptions for audio file: series04-s00095_bay\n",
      "No transcriptions for audio file: series06-s00034_bay\n",
      "No transcriptions for audio file: series07-s00028_bay\n",
      "No transcriptions for audio file: series07-s00135_bay\n",
      "No transcriptions for audio file: series07-s00145_bay\n",
      "No transcriptions for audio file: series01-s000017_bee\n",
      "No transcriptions for audio file: series02-s00012_bee\n",
      "No transcriptions for audio file: series03-s0000151_bee\n",
      "No transcriptions for audio file: series03-s0000222_bee\n",
      "No transcriptions for audio file: series03-s000062_bee\n",
      "No transcriptions for audio file: series05-s000029_bee\n",
      "No transcriptions for audio file: series05-s000036_bee\n",
      "No transcriptions for audio file: series05-s000073_bee\n",
      "No transcriptions for audio file: series07-s00032_bee\n",
      "No transcriptions for audio file: series07-s00089_bee\n",
      "No transcriptions for audio file: series07-s00135_bee\n",
      "No transcriptions for audio file: series01-s000014_beer\n",
      "No transcriptions for audio file: series04-s00092_beer\n",
      "No transcriptions for audio file: series01-s000011_bird\n",
      "No transcriptions for audio file: series04-s00092_bout\n",
      "No transcriptions for audio file: series04-s00092_boy\n",
      "No transcriptions for audio file: series01-s000023_buy\n",
      "No transcriptions for audio file: series03-s000057_buy\n",
      "No transcriptions for audio file: series07-s00095_buy\n",
      "No transcriptions for audio file: series07-s00145_buy\n",
      "No transcriptions for audio file: series04-s00092_caught\n",
      "No transcriptions for audio file: series01-s000037_daft\n",
      "No transcriptions for audio file: series01-s000037_dance\n",
      "No transcriptions for audio file: series01-s000014_fair\n",
      "No transcriptions for audio file: series04-s00042_fair\n",
      "No transcriptions for audio file: series02-s00016_fern\n",
      "No transcriptions for audio file: series04-s00076_fir\n",
      "No transcriptions for audio file: series05-s000016_fir\n",
      "No transcriptions for audio file: series05-s000075_fur\n",
      "No transcriptions for audio file: series04-s00092_half\n",
      "No transcriptions for audio file: series01-s000014_hat\n",
      "No transcriptions for audio file: series04-s00092_hat\n",
      "No transcriptions for audio file: series01-s000026_mate\n",
      "No transcriptions for audio file: series04-s00092_mate\n",
      "No transcriptions for audio file: series03-s0000165_meat\n",
      "No transcriptions for audio file: series01-s000026_meet\n",
      "No transcriptions for audio file: series04-s00051_meet\n",
      "No transcriptions for audio file: series03-s000068_pat\n",
      "No transcriptions for audio file: series04-s00032_paw\n",
      "No transcriptions for audio file: series01-s000013_pet\n",
      "No transcriptions for audio file: series01-s000023_pet\n",
      "No transcriptions for audio file: series01-s000023_pit\n",
      "No transcriptions for audio file: series02-s00019_pole\n",
      "No transcriptions for audio file: series04-s00076_pole\n",
      "No transcriptions for audio file: series01-s000014_pool\n",
      "No transcriptions for audio file: series02-s00022_pool\n",
      "No transcriptions for audio file: series03-s0000209_pool\n",
      "No transcriptions for audio file: series07-s00079_pool\n",
      "No transcriptions for audio file: series02-s00024_poor\n",
      "No transcriptions for audio file: series01-s000043_pore\n",
      "No transcriptions for audio file: series03-s0000173_pour\n",
      "No transcriptions for audio file: series01-s000026_pull\n",
      "No transcriptions for audio file: series03-s0000194_pull\n",
      "No transcriptions for audio file: series01-s000043_put\n",
      "No transcriptions for audio file: series04-s00092_put\n",
      "No transcriptions for audio file: series02-s00016_weight\n",
      "No transcriptions for audio file: series07-s00003_weight\n"
     ]
    }
   ],
   "source": [
    "multi_pre_res = model_preprocess_and_calculate_multi(multi_w2v_transcription_info_path)\n"
   ]
  },
  {
   "cell_type": "code",
   "execution_count": 165,
   "id": "6470db92-2635-482f-aed9-b117a9c043a0",
   "metadata": {},
   "outputs": [
    {
     "name": "stdout",
     "output_type": "stream",
     "text": [
      "Preprocessed results saved to ./tst_json_files/transcription_output/w2v_processed_output/mooc_multi_w2v_output.json\n"
     ]
    }
   ],
   "source": [
    "multi_w2v_output_json_file_path = \"./tst_json_files/transcription_output/w2v_processed_output/mooc_multi_w2v_output.json\"\n",
    "\n",
    "with open(multi_w2v_output_json_file_path, 'w') as json_file:\n",
    "    json.dump(multi_pre_res, json_file, indent=4)\n",
    "print(f\"Preprocessed results saved to {multi_w2v_output_json_file_path}\")   "
   ]
  },
  {
   "cell_type": "markdown",
   "id": "71107eeb-2654-40c0-9779-b59b0da81099",
   "metadata": {},
   "source": [
    "## Below is for the test data of this thesis"
   ]
  },
  {
   "cell_type": "code",
   "execution_count": 166,
   "id": "7c1cfa9c-0cb0-498c-9d70-625f6fcc80b9",
   "metadata": {},
   "outputs": [],
   "source": [
    "# naming the transcription info path and raw text path for test files\n",
    "test_multi_w2v_transcription_info_path =  \"./tst_json_files/transcription_output/w2v_raw_transcription_info/test_multi_raw_info_result.json\"\n",
    "test_multi_w2v_raw_text_path =  \"./tst_json_files/transcription_output/w2v_raw_text/test_multi_raw_text_result.json\""
   ]
  },
  {
   "cell_type": "code",
   "execution_count": 167,
   "id": "14e560b6-7504-477f-b36e-63ba91fe52d1",
   "metadata": {},
   "outputs": [],
   "source": [
    "# naming the filenames and full paths of files for development\n",
    "test_filenames_mooc = test_fn\n",
    "test_filepaths_mooc = test_fp"
   ]
  },
  {
   "cell_type": "code",
   "execution_count": 168,
   "id": "0ffb5363-1764-4ce1-b0ef-37961102abbc",
   "metadata": {},
   "outputs": [
    {
     "name": "stdout",
     "output_type": "stream",
     "text": [
      "Transcription info saved to ./tst_json_files/transcription_output/w2v_raw_transcription_info/test_multi_raw_info_result.json\n",
      "Raw transcription saved to ./tst_json_files/transcription_output/w2v_raw_text/test_multi_raw_text_result.json\n"
     ]
    }
   ],
   "source": [
    "# calling to generate raw text and transcription info for the test files using wav2vec\n",
    "mooc_multi_w2v_transcribe_audio_folder(test_filenames_mooc, test_filepaths_mooc, test_multi_w2v_transcription_info_path, test_multi_w2v_raw_text_path)"
   ]
  },
  {
   "cell_type": "code",
   "execution_count": 169,
   "id": "88e93903-3594-4efa-b6d3-1c681233930e",
   "metadata": {},
   "outputs": [
    {
     "name": "stdout",
     "output_type": "stream",
     "text": [
      "No transcriptions for audio file: series03-s0000119_Paul\n",
      "No transcriptions for audio file: series04-s00002_Paul\n",
      "No transcriptions for audio file: series07-s00032_Paul\n",
      "No transcriptions for audio file: series07-s00135_Paul\n",
      "No transcriptions for audio file: series04-s00032_bard\n",
      "No transcriptions for audio file: series01-s00009_bay\n",
      "No transcriptions for audio file: series04-s00032_bay\n",
      "No transcriptions for audio file: series05-s00002_bay\n",
      "No transcriptions for audio file: series07-s00032_bay\n",
      "No transcriptions for audio file: series07-s00079_bay\n",
      "No transcriptions for audio file: series04-s00038_bear\n",
      "No transcriptions for audio file: series01-s000013_bee\n",
      "No transcriptions for audio file: series01-s000015_bee\n",
      "No transcriptions for audio file: series01-s000032_bee\n",
      "No transcriptions for audio file: series01-s00004_bee\n",
      "No transcriptions for audio file: series01-s00007_bee\n",
      "No transcriptions for audio file: series02-s00016_bee\n",
      "No transcriptions for audio file: series02-s00024_bee\n",
      "No transcriptions for audio file: series04-s00030_bee\n",
      "No transcriptions for audio file: series04-s00095_bee\n",
      "No transcriptions for audio file: series05-s000011_bee\n",
      "No transcriptions for audio file: series05-s00003_bee\n",
      "No transcriptions for audio file: series06-s00014_bee\n",
      "No transcriptions for audio file: series07-s00002_bee\n",
      "No transcriptions for audio file: series07-s00053_bee\n",
      "No transcriptions for audio file: series07-s00071a_bee\n",
      "No transcriptions for audio file: series07-s00079_bee\n",
      "No transcriptions for audio file: series07-s00096_bee\n",
      "No transcriptions for audio file: series07-s00148_bee\n",
      "No transcriptions for audio file: series03-s0000180_beer\n",
      "No transcriptions for audio file: series01-s000026_bird\n",
      "No transcriptions for audio file: series04-s00092_bird\n",
      "No transcriptions for audio file: series04-s00092_boot\n",
      "No transcriptions for audio file: series01-s000011_bout\n",
      "No transcriptions for audio file: series04-s00032_buy\n",
      "No transcriptions for audio file: series04-s00092_buy\n",
      "No transcriptions for audio file: series01-s000011_daft\n",
      "No transcriptions for audio file: series01-s000026_doll\n",
      "No transcriptions for audio file: series02-s00012_doll\n",
      "No transcriptions for audio file: series01-s000036_fair\n",
      "No transcriptions for audio file: series04-s00092_fair\n",
      "No transcriptions for audio file: series01-s000036_fir\n",
      "No transcriptions for audio file: series03-s000068_fir\n",
      "No transcriptions for audio file: series01-s000046_hat\n",
      "No transcriptions for audio file: series04-s00045_meat\n",
      "No transcriptions for audio file: series04-s00045_meet\n",
      "No transcriptions for audio file: series04-s00045_pat\n",
      "No transcriptions for audio file: series03-s0000194_paw\n",
      "No transcriptions for audio file: series07-s00063_paw\n",
      "No transcriptions for audio file: series01-s000046_pet\n",
      "No transcriptions for audio file: series02-s00012_pet\n",
      "No transcriptions for audio file: series01-s000011_pit\n",
      "No transcriptions for audio file: series01-s000017_pit\n",
      "No transcriptions for audio file: series01-s000038_pit\n",
      "No transcriptions for audio file: series04-s00032_pit\n",
      "No transcriptions for audio file: series01-s000026_plate\n",
      "No transcriptions for audio file: series04-s00032_plate\n",
      "No transcriptions for audio file: series03-s000057_pool\n",
      "No transcriptions for audio file: series04-s00032_pool\n",
      "No transcriptions for audio file: series03-s000045_poor\n",
      "No transcriptions for audio file: series07-s00079_pore\n",
      "No transcriptions for audio file: series02-s00019_pull\n",
      "No transcriptions for audio file: series02-s00027_pull\n",
      "No transcriptions for audio file: series04-s00034_put\n",
      "No transcriptions for audio file: series01-s000017_tide\n",
      "No transcriptions for audio file: series04-s00092_tied\n",
      "No transcriptions for audio file: series04-s00092_wait\n",
      "No transcriptions for audio file: series01-s000026_weight\n"
     ]
    }
   ],
   "source": [
    "# calling to preprocess results for wav2vec of test files\n",
    "test_multi_pre_res = model_preprocess_and_calculate_multi(test_multi_w2v_transcription_info_path)\n"
   ]
  },
  {
   "cell_type": "code",
   "execution_count": 170,
   "id": "0bae55ff-ff95-45e8-94ca-349c0d6cfd3d",
   "metadata": {},
   "outputs": [
    {
     "name": "stdout",
     "output_type": "stream",
     "text": [
      "Preprocessed results saved to ./tst_json_files/transcription_output/w2v_processed_output/test_multi_w2v_output.json\n"
     ]
    }
   ],
   "source": [
    "# saving results in a file\n",
    "test_multi_w2v_output_json_file_path = \"./tst_json_files/transcription_output/w2v_processed_output/test_multi_w2v_output.json\"\n",
    "\n",
    "with open(test_multi_w2v_output_json_file_path, 'w') as json_file:\n",
    "    json.dump(test_multi_pre_res, json_file, indent=4)\n",
    "print(f\"Preprocessed results saved to {test_multi_w2v_output_json_file_path}\")   "
   ]
  },
  {
   "cell_type": "markdown",
   "id": "f5e20368-88e6-4093-a0ea-3198d48645b6",
   "metadata": {},
   "source": [
    "## Here, we also obtain data from Furong's test data in 2024"
   ]
  },
  {
   "cell_type": "code",
   "execution_count": 171,
   "id": "94a43842-3cd6-4f56-ad3a-a982ed091a45",
   "metadata": {},
   "outputs": [],
   "source": [
    "## we need to use Furong's code and adapted the 'transcribe' into 'wav2vec_top_res(filepath)' \n",
    "# Function to transcribe audio files in a specific folder and save the transcriptions to JSON files\n",
    "def transcribe_audio_folder(folder_path, transcriptions_info_path, raw_text_path):    \n",
    "    raw_text = {}\n",
    "    transcriptions_info = {}\n",
    "    filenames = sorted(os.listdir(folder_path)) # added sorted\n",
    "\n",
    "    for filename in filenames:       \n",
    "        if filename.endswith(\".mp3\"):   # Remove '.mp3' extension from the filename        \n",
    "            base_filename = filename[:-4]                        \n",
    "            parts = base_filename.split('_') # Split filename to extract studentID, word, and trueLabel\n",
    "            studentID = parts[0]\n",
    "            word = parts[1]\n",
    "            trueLabel = 'intelligible' if parts[2] == '1' else 'unintelligible'\n",
    "\n",
    "            file_path = os.path.join(folder_path, filename)\n",
    "            result = wav2vec_top_res(file_path)  \n",
    "            segments_info = []  # Extract required fields from all segments\n",
    "            segment_info = {\n",
    "                    'text and avg_logprob':result                   \n",
    "                    }\n",
    "            segments_info.append(segment_info)\n",
    "\n",
    "            transcriptions_info[base_filename] = {\n",
    "                \"studentID\": studentID,\n",
    "                \"word\": word,\n",
    "                \"trueLabel\": trueLabel,\n",
    "                \"segments\": segments_info \n",
    "            }\n",
    "\n",
    "            raw_text[base_filename] = result\n",
    "\n",
    "    # Save the detailed transcriptions info to a JSON file\n",
    "    with open(transcriptions_info_path, 'w') as json_file:\n",
    "        json.dump(transcriptions_info, json_file, indent=4)\n",
    "    print(f\"Transcription info saved to {transcriptions_info_path}\")\n",
    "\n",
    "    # Save the raw transcriptions to a JSON file\n",
    "    with open(raw_text_path, 'w') as json_file:\n",
    "        json.dump(raw_text, json_file, indent=4)\n",
    "    print(f\"Raw transcription saved to {raw_text_path}\")\n"
   ]
  },
  {
   "cell_type": "code",
   "execution_count": 172,
   "id": "b53e04dc-2ca7-41e3-814f-4f3ff3e16b69",
   "metadata": {},
   "outputs": [],
   "source": [
    "# defining the base dir for test \n",
    "furong_test_base_dir =  \"./previous_data_audio/furong_test_all\"\n"
   ]
  },
  {
   "cell_type": "code",
   "execution_count": 173,
   "id": "21fb603f-ce3e-456d-bb4d-2c80ee49a74b",
   "metadata": {},
   "outputs": [],
   "source": [
    "# preparing the output paths for test\n",
    "furong_test_info_path = \"./tst_json_files/transcription_output/w2v_raw_transcription_info/furong_test_raw_info_result.json\"\n",
    "furong_test_raw_text_path =  \"./tst_json_files/transcription_output/w2v_raw_text/furong_test_raw_text_result.json\"\n"
   ]
  },
  {
   "cell_type": "code",
   "execution_count": 175,
   "id": "189ffadd-fc9f-409c-8db9-a7d9964e5e0c",
   "metadata": {},
   "outputs": [
    {
     "name": "stdout",
     "output_type": "stream",
     "text": [
      "Transcription info saved to ./tst_json_files/transcription_output/w2v_raw_transcription_info/furong_test_raw_info_result.json\n",
      "Raw transcription saved to ./tst_json_files/transcription_output/w2v_raw_text/furong_test_raw_text_result.json\n"
     ]
    }
   ],
   "source": [
    "#calling test paths for raw and info\n",
    "transcribe_audio_folder(furong_test_base_dir, furong_test_info_path, furong_test_raw_text_path)\n"
   ]
  },
  {
   "cell_type": "code",
   "execution_count": 176,
   "id": "2d89b136-f385-4a10-8b34-49096887da44",
   "metadata": {},
   "outputs": [
    {
     "name": "stdout",
     "output_type": "stream",
     "text": [
      "----------below is no trans for Furong's test files-----------\n",
      "No transcriptions for audio file: s13_fair\n",
      "No transcriptions for audio file: s15_paw\n",
      "No transcriptions for audio file: s18_buy\n",
      "No transcriptions for audio file: s18_pet\n",
      "No transcriptions for audio file: s18_seedy\n",
      "No transcriptions for audio file: s22_bee\n",
      "No transcriptions for audio file: s22_tide\n",
      "No transcriptions for audio file: s23_bee\n",
      "No transcriptions for audio file: s23_pool\n",
      "No transcriptions for audio file: s25_pit\n",
      "No transcriptions for audio file: s26_fur\n",
      "No transcriptions for audio file: s31_bee\n",
      "No transcriptions for audio file: s32_bee\n",
      "No transcriptions for audio file: s32_buy\n",
      "No transcriptions for audio file: s36_bay\n",
      "No transcriptions for audio file: s36_buy\n",
      "No transcriptions for audio file: s36_fir\n",
      "No transcriptions for audio file: s36_paw\n",
      "No transcriptions for audio file: s36_pool\n",
      "No transcriptions for audio file: s38_bee\n",
      "No transcriptions for audio file: s41_bear\n",
      "No transcriptions for audio file: s41_buy\n",
      "No transcriptions for audio file: s42_meat\n",
      "No transcriptions for audio file: s45_hat\n",
      "No transcriptions for audio file: s49_boy\n",
      "No transcriptions for audio file: s49_seedy\n",
      "No transcriptions for audio file: s51_bay\n",
      "No transcriptions for audio file: s51_bee\n",
      "No transcriptions for audio file: s51_tide\n"
     ]
    }
   ],
   "source": [
    "# calling to preprocess results for wav2vec of Furong's  test files\n",
    "print(\"----------below is no trans for Furong's test files-----------\")\n",
    "furong_test_preprocess_results = model_preprocess_and_calculate_multi(furong_test_info_path)\n"
   ]
  },
  {
   "cell_type": "code",
   "execution_count": 178,
   "id": "5af2a292-7463-4f8c-9b79-5c228eb2f586",
   "metadata": {},
   "outputs": [
    {
     "name": "stdout",
     "output_type": "stream",
     "text": [
      "Preprocessed results saved to ./tst_json_files/transcription_output/w2v_processed_output/furong_test_w2v_output.json\n"
     ]
    }
   ],
   "source": [
    "furong_test_w2v_output_json_file_path = \"./tst_json_files/transcription_output/w2v_processed_output/furong_test_w2v_output.json\"\n",
    "\n",
    "with open(furong_test_w2v_output_json_file_path, 'w') as json_file:\n",
    "    json.dump(furong_test_preprocess_results, json_file, indent=4)\n",
    "print(f\"Preprocessed results saved to {furong_test_w2v_output_json_file_path}\")  "
   ]
  },
  {
   "cell_type": "code",
   "execution_count": 2,
   "id": "0e60300c-fb3e-42fd-bead-65fc536ffe97",
   "metadata": {},
   "outputs": [
    {
     "name": "stdout",
     "output_type": "stream",
     "text": [
      "✅ Words found in CMUdict (with phonemes):\n",
      "seedy      → S IY1 D IY0\n",
      "caught     → K AA1 T\n",
      "poor       → P UH1 R\n",
      "pet        → P EH1 T\n",
      "pour       → P AO1 R\n",
      "buy        → B AY1\n",
      "fair       → F EH1 R\n",
      "father     → F AA1 DH ER0\n",
      "paul       → P AO1 L\n",
      "fern       → F ER1 N\n",
      "bear       → B EH1 R\n",
      "bay        → B EY1\n",
      "pool       → P UW1 L\n",
      "paws       → P AO1 Z\n",
      "tied       → T AY1 D\n",
      "fur        → F ER1\n",
      "cot        → K AA1 T\n",
      "pit        → P IH1 T\n",
      "doll       → D AA1 L\n",
      "pole       → P OW1 L\n",
      "pot        → P AA1 T\n",
      "putt       → P AH1 T\n",
      "bee        → B IY1\n",
      "weight     → W EY1 T\n",
      "nose       → N OW1 Z\n",
      "pause      → P AO1 Z\n",
      "paw        → P AO1\n",
      "board      → B AO1 R D\n",
      "bird       → B ER1 D\n",
      "city       → S IH1 T IY0\n",
      "pull       → P UH1 L\n",
      "put        → P UH1 T\n",
      "dance      → D AE1 N S\n",
      "meat       → M IY1 T\n",
      "pat        → P AE1 T\n",
      "bard       → B AA1 R D\n",
      "daft       → D AE1 F T\n",
      "boot       → B UW1 T\n",
      "beer       → B IH1 R\n",
      "fir        → F ER1\n",
      "farther    → F AA1 R DH ER0\n",
      "mate       → M EY1 T\n",
      "boy        → B OY1\n",
      "tide       → T AY1 D\n",
      "wait       → W EY1 T\n",
      "plate      → P L EY1 T\n",
      "bout       → B AW1 T\n",
      "knows      → N OW1 Z\n",
      "pore       → P AO1 R\n",
      "meet       → M IY1 T\n",
      "boat       → B OW1 T\n",
      "hat        → HH AE1 T\n",
      "half       → HH AE1 F\n",
      "\n",
      "❌ Words NOT found in CMUdict:\n",
      "All words found!\n"
     ]
    }
   ],
   "source": [
    "\n",
    "words = [\n",
    "    'seedy', 'caught', 'poor', 'pet', 'pour', 'buy', 'fair', 'father',\n",
    "    'Paul', 'fern', 'bear', 'bay', 'pool', 'paws', 'tied', 'fur', 'cot', 'pit', 'doll',\n",
    "    'pole', 'pot', 'putt', 'bee', 'weight', 'nose', 'pause', 'paw', 'board', 'bird',\n",
    "    'city', 'pull', 'put', 'dance', 'meat', 'pat', 'bard', 'daft', 'boot', 'beer', 'fir',\n",
    "    'farther', 'mate', 'boy', 'tide', 'wait', 'plate', 'bout', 'knows', 'pore', 'meet',\n",
    "    'boat', 'hat', 'half'\n",
    "]\n",
    "\n",
    "# Normalize capitalization and spacing\n",
    "words = [w.strip().lower() for w in words]\n",
    "\n",
    "# Check which words exist and print phonemes\n",
    "found = {}\n",
    "missing = []\n",
    "\n",
    "for word in words:\n",
    "    if word in cmu_dict:\n",
    "        found[word] = cmu_dict[word][0]  # take first pronunciation\n",
    "    else:\n",
    "        missing.append(word)\n",
    "\n",
    "# --- Print results ---\n",
    "print(\"✅ Words found in CMUdict (with phonemes):\")\n",
    "for w, ph in found.items():\n",
    "    print(f\"{w:10s} → {' '.join(ph)}\")\n",
    "\n",
    "print(\"\\n❌ Words NOT found in CMUdict:\")\n",
    "print(missing if missing else \"All words found!\")\n"
   ]
  },
  {
   "cell_type": "code",
   "execution_count": null,
   "id": "696ed454-4304-4a32-8fb9-a4f80a97ebb7",
   "metadata": {},
   "outputs": [],
   "source": []
  }
 ],
 "metadata": {
  "kernelspec": {
   "display_name": "Python 3 (ipykernel)",
   "language": "python",
   "name": "python3"
  },
  "language_info": {
   "codemirror_mode": {
    "name": "ipython",
    "version": 3
   },
   "file_extension": ".py",
   "mimetype": "text/x-python",
   "name": "python",
   "nbconvert_exporter": "python",
   "pygments_lexer": "ipython3",
   "version": "3.9.22"
  }
 },
 "nbformat": 4,
 "nbformat_minor": 5
}
